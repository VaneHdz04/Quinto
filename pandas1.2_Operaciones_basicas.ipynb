{
 "cells": [
  {
   "cell_type": "markdown",
   "id": "dd69f58f-68e2-4593-b7c1-2f0e14ce2946",
   "metadata": {},
   "source": [
    "# Numpy"
   ]
  },
  {
   "cell_type": "code",
   "execution_count": 1,
   "id": "bf8e26ca-f152-4f36-8a79-ed8d10ce5631",
   "metadata": {},
   "outputs": [],
   "source": [
    "import numpy as np"
   ]
  },
  {
   "cell_type": "markdown",
   "id": "6017dbec-2bcc-476a-9438-65307eccb8c9",
   "metadata": {},
   "source": [
    "## 1. Crear arrays y operaciones básicas"
   ]
  },
  {
   "cell_type": "markdown",
   "id": "cd4f45c1-dd8b-4cb0-bddd-90327a77ae49",
   "metadata": {},
   "source": [
    "### 1.6. Generar arrays vacíos o inicializados"
   ]
  },
  {
   "cell_type": "code",
   "execution_count": 2,
   "id": "17414f6d-49c4-479c-8046-c41869589e4d",
   "metadata": {},
   "outputs": [
    {
     "name": "stdout",
     "output_type": "stream",
     "text": [
      "Array vacío 4x4:\n",
      " [[1.01931583e-316 0.00000000e+000 0.00000000e+000 0.00000000e+000]\n",
      " [0.00000000e+000 0.00000000e+000 0.00000000e+000 0.00000000e+000]\n",
      " [0.00000000e+000 0.00000000e+000 0.00000000e+000 0.00000000e+000]\n",
      " [0.00000000e+000 0.00000000e+000 0.00000000e+000 0.00000000e+000]]\n"
     ]
    }
   ],
   "source": [
    "# Crea un array vacío de 4x4\n",
    "array_vacio = np.empty((4, 4))\n",
    "print(\"Array vacío 4x4:\\n\", array_vacio)"
   ]
  },
  {
   "cell_type": "code",
   "execution_count": 3,
   "id": "b22252a3-11dd-41c4-8c8b-ff52d3e3986b",
   "metadata": {},
   "outputs": [
    {
     "name": "stdout",
     "output_type": "stream",
     "text": [
      "\n",
      "Array de ceros 3x5:\n",
      " [[0. 0. 0. 0. 0.]\n",
      " [0. 0. 0. 0. 0.]\n",
      " [0. 0. 0. 0. 0.]]\n"
     ]
    }
   ],
   "source": [
    "# Crea un array de ceros de tamaño 3x5\n",
    "array_ceros = np.zeros((3, 5))\n",
    "print(\"\\nArray de ceros 3x5:\\n\", array_ceros)"
   ]
  },
  {
   "cell_type": "code",
   "execution_count": 4,
   "id": "55262543-5c10-4f9b-8968-c707148402bc",
   "metadata": {},
   "outputs": [
    {
     "name": "stdout",
     "output_type": "stream",
     "text": [
      "\n",
      "Array de unos 2x6:\n",
      " [[1. 1. 1. 1. 1. 1.]\n",
      " [1. 1. 1. 1. 1. 1.]]\n"
     ]
    }
   ],
   "source": [
    "# Crea un array de unos de tamaño 2x6\n",
    "array_unos = np.ones((2, 6))\n",
    "print(\"\\nArray de unos 2x6:\\n\", array_unos)"
   ]
  },
  {
   "cell_type": "markdown",
   "id": "e3ffe418-f372-40c8-94c6-8f817086d286",
   "metadata": {},
   "source": [
    "### 1.7. Operaciones aritméticas básicas"
   ]
  },
  {
   "cell_type": "code",
   "execution_count": 5,
   "id": "87d51d33-3082-40dd-a36d-8a914a7f99de",
   "metadata": {},
   "outputs": [],
   "source": [
    "# Crea un array de 1D con 5 valores entre 1 y 5\n",
    "array4 = np.array([1, 2, 3, 4, 5])"
   ]
  },
  {
   "cell_type": "code",
   "execution_count": 6,
   "id": "b17125b5-c893-448a-ac5f-fffcc4ffc5c5",
   "metadata": {},
   "outputs": [
    {
     "name": "stdout",
     "output_type": "stream",
     "text": [
      "Array después de sumar 3: [4 5 6 7 8]\n"
     ]
    }
   ],
   "source": [
    "# Suma 3 a cada elemento del array\n",
    "array_suma = array4 + 3\n",
    "print(\"Array después de sumar 3:\", array_suma)"
   ]
  },
  {
   "cell_type": "code",
   "execution_count": 7,
   "id": "7175bc3a-27a6-470e-a785-dd9362f4c578",
   "metadata": {},
   "outputs": [
    {
     "name": "stdout",
     "output_type": "stream",
     "text": [
      "\n",
      "Array después de multiplicar por 2: [ 2  4  6  8 10]\n"
     ]
    }
   ],
   "source": [
    "# Multiplica cada elemento del array por 2\n",
    "array_multiplica = array4 * 2\n",
    "print(\"\\nArray después de multiplicar por 2:\", array_multiplica)"
   ]
  },
  {
   "cell_type": "code",
   "execution_count": 15,
   "id": "8e81058d-528f-4faa-8c50-0f9b75738f00",
   "metadata": {},
   "outputs": [
    {
     "name": "stdout",
     "output_type": "stream",
     "text": [
      "\n",
      "Array elevado al cubo: [  1   8  27  64 125]\n"
     ]
    }
   ],
   "source": [
    "# Eleva al cubo cada elemento del array\n",
    "array_cubo = array4 ** 3\n",
    "print(\"\\nArray elevado al cubo:\", array_cubo)"
   ]
  },
  {
   "cell_type": "markdown",
   "id": "02ed9f80-2ef2-4d40-b635-93e351aa58ce",
   "metadata": {},
   "source": [
    "### 1.8. Concatenación y apilamiento de arrays"
   ]
  },
  {
   "cell_type": "code",
   "execution_count": 16,
   "id": "b701453f-6361-4a28-aac5-91174632ab25",
   "metadata": {},
   "outputs": [],
   "source": [
    "# Crea dos arrays de 1D con números del 1 al 3 y del 4 al 6\n",
    "array5 = np.array([1, 2, 3])\n",
    "array6 = np.array([4, 5, 6])"
   ]
  },
  {
   "cell_type": "code",
   "execution_count": 17,
   "id": "60fa58e6-fdaa-48c4-9461-049694925bd7",
   "metadata": {},
   "outputs": [
    {
     "name": "stdout",
     "output_type": "stream",
     "text": [
      "Array concatenado: [1 2 3 4 5 6]\n"
     ]
    }
   ],
   "source": [
    "# Concatenar los dos arrays\n",
    "array_concatenado = np.concatenate((array5, array6))\n",
    "print(\"Array concatenado:\", array_concatenado)"
   ]
  },
  {
   "cell_type": "code",
   "execution_count": 18,
   "id": "11562063-3afa-436f-9296-4ac42965a11b",
   "metadata": {},
   "outputs": [],
   "source": [
    "# Crea dos arrays 2x2\n",
    "array7 = np.array([[1, 2], [3, 4]])\n",
    "array8 = np.array([[5, 6], [7, 8]])"
   ]
  },
  {
   "cell_type": "code",
   "execution_count": 19,
   "id": "3892fdd8-d366-4d8e-8fec-00fe3d2295d3",
   "metadata": {},
   "outputs": [
    {
     "name": "stdout",
     "output_type": "stream",
     "text": [
      "\n",
      "Arrays apilados verticalmente:\n",
      " [[1 2]\n",
      " [3 4]\n",
      " [5 6]\n",
      " [7 8]]\n"
     ]
    }
   ],
   "source": [
    "# Apila los dos arrays verticalmente\n",
    "array_apilado_v = np.vstack((array7, array8))\n",
    "print(\"\\nArrays apilados verticalmente:\\n\", array_apilado_v)"
   ]
  },
  {
   "cell_type": "code",
   "execution_count": 20,
   "id": "7a5ea5a9-b0dd-40df-b904-909755f7d4d2",
   "metadata": {},
   "outputs": [
    {
     "name": "stdout",
     "output_type": "stream",
     "text": [
      "\n",
      "Arrays apilados horizontalmente:\n",
      " [[1 2 5 6]\n",
      " [3 4 7 8]]\n"
     ]
    }
   ],
   "source": [
    "# Apila los dos arrays horizontalmente\n",
    "array_apilado_h = np.hstack((array7, array8))\n",
    "print(\"\\nArrays apilados horizontalmente:\\n\", array_apilado_h)\n"
   ]
  },
  {
   "cell_type": "markdown",
   "id": "3a32c45e-4dd6-4d9a-9150-69f2bc45efe4",
   "metadata": {},
   "source": [
    "### 1.9. Array booleano y filtros"
   ]
  },
  {
   "cell_type": "code",
   "execution_count": 22,
   "id": "46b1d536-cc1e-43cc-b5c1-371231e540d5",
   "metadata": {},
   "outputs": [],
   "source": [
    "# Crea un array de 1D con valores enteros del 10 al 19\n",
    "array9 = np.arange(10, 20)"
   ]
  },
  {
   "cell_type": "code",
   "execution_count": 23,
   "id": "d541a522-1205-4018-89bb-77c6eb130913",
   "metadata": {},
   "outputs": [
    {
     "name": "stdout",
     "output_type": "stream",
     "text": [
      "Máscara booleana: [False False False False False False  True  True  True  True]\n"
     ]
    }
   ],
   "source": [
    "# Crea una máscara booleana para filtrar los elementos mayores que 15\n",
    "mascara = array9 > 15\n",
    "print(\"Máscara booleana:\", mascara)"
   ]
  },
  {
   "cell_type": "code",
   "execution_count": 24,
   "id": "feade07f-6753-4f29-9ec5-10bdddd736f8",
   "metadata": {},
   "outputs": [
    {
     "name": "stdout",
     "output_type": "stream",
     "text": [
      "\n",
      "Array filtrado (valores > 15): [16 17 18 19]\n"
     ]
    }
   ],
   "source": [
    "# Aplica la máscara para filtrar el array\n",
    "array_filtrado = array9[mascara]\n",
    "print(\"\\nArray filtrado (valores > 15):\", array_filtrado)"
   ]
  },
  {
   "cell_type": "markdown",
   "id": "83d12ad4-bb41-4369-a9d2-0f896e7f7688",
   "metadata": {},
   "source": [
    "### 1.10. Generar arrays de números aleatorios"
   ]
  },
  {
   "cell_type": "code",
   "execution_count": 25,
   "id": "55710760-630c-4dfc-9b52-8b9f99089a13",
   "metadata": {},
   "outputs": [
    {
     "name": "stdout",
     "output_type": "stream",
     "text": [
      "Array 4x4 con valores aleatorios entre 0 y 1:\n",
      " [[0.98875394 0.67293092 0.39926068 0.77686005]\n",
      " [0.78939513 0.31245394 0.92318046 0.70450045]\n",
      " [0.05457321 0.53400181 0.97142413 0.7139485 ]\n",
      " [0.43488343 0.21581327 0.38638496 0.67898633]]\n"
     ]
    }
   ],
   "source": [
    "# Crea un array de 4x4 con números aleatorios entre 0 y 1\n",
    "array_aleatorio = np.random.random((4, 4))\n",
    "print(\"Array 4x4 con valores aleatorios entre 0 y 1:\\n\", array_aleatorio)\n"
   ]
  },
  {
   "cell_type": "code",
   "execution_count": 26,
   "id": "05570289-ce0a-4c18-a383-ed73e4aa81b7",
   "metadata": {},
   "outputs": [
    {
     "name": "stdout",
     "output_type": "stream",
     "text": [
      "\n",
      "Array con enteros aleatorios entre 50 y 100: [66 72 98 73 58]\n"
     ]
    }
   ],
   "source": [
    "#Aray de 5 elementos con números enteros aleatorios entre 50 y 100\n",
    "array_enteros_aleatorios = np.random.randint(50, 100, size=5)\n",
    "print(\"\\nArray con enteros aleatorios entre 50 y 100:\", array_enteros_aleatorios)"
   ]
  },
  {
   "cell_type": "code",
   "execution_count": null,
   "id": "f628eb98-4f48-424a-804b-13e465a5b100",
   "metadata": {},
   "outputs": [],
   "source": []
  }
 ],
 "metadata": {
  "kernelspec": {
   "display_name": "Python 3 (ipykernel)",
   "language": "python",
   "name": "python3"
  },
  "language_info": {
   "codemirror_mode": {
    "name": "ipython",
    "version": 3
   },
   "file_extension": ".py",
   "mimetype": "text/x-python",
   "name": "python",
   "nbconvert_exporter": "python",
   "pygments_lexer": "ipython3",
   "version": "3.9.19"
  }
 },
 "nbformat": 4,
 "nbformat_minor": 5
}

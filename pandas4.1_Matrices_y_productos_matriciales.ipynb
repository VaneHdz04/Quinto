{
 "cells": [
  {
   "cell_type": "markdown",
   "id": "a8e50922-14f5-451c-a7e1-41958af3b49e",
   "metadata": {},
   "source": [
    "# Numpy"
   ]
  },
  {
   "cell_type": "code",
   "execution_count": 1,
   "id": "3fba123e-e3ca-4cd5-849b-fbf008111423",
   "metadata": {},
   "outputs": [],
   "source": [
    "import numpy as np"
   ]
  },
  {
   "cell_type": "markdown",
   "id": "ba0b19d3-097c-4b53-84b5-fcc0884b6551",
   "metadata": {},
   "source": [
    "## 4. Matrices y productos matriciales"
   ]
  },
  {
   "cell_type": "markdown",
   "id": "fc0a7527-3dd7-4ee5-8249-54b2483d515b",
   "metadata": {},
   "source": [
    "### 4.1. Creación de matrices y acceso a elementos"
   ]
  },
  {
   "cell_type": "code",
   "execution_count": 2,
   "id": "479b8512-2bc2-4415-aab9-e17acc1c2aff",
   "metadata": {},
   "outputs": [],
   "source": [
    "# Crea una matriz 3x3 con números del 1 al 9\n",
    "matriz1 = np.array([[1, 2, 3], [4, 5, 6], [7, 8, 9]])"
   ]
  },
  {
   "cell_type": "code",
   "execution_count": 3,
   "id": "20a2386e-0cfd-4f41-a997-e45aa3cd2536",
   "metadata": {},
   "outputs": [
    {
     "name": "stdout",
     "output_type": "stream",
     "text": [
      "Elemento en fila 2, columna 3: 6\n"
     ]
    }
   ],
   "source": [
    "# Accede al elemento en la fila 2, columna 3\n",
    "elemento = matriz1[1, 2]  # Recuerda que los índices empiezan en 0\n",
    "print(\"Elemento en fila 2, columna 3:\", elemento)"
   ]
  },
  {
   "cell_type": "code",
   "execution_count": 4,
   "id": "fe869e92-086b-493c-b1ed-03125d707373",
   "metadata": {},
   "outputs": [
    {
     "name": "stdout",
     "output_type": "stream",
     "text": [
      "Segunda fila completa: [4 5 6]\n"
     ]
    }
   ],
   "source": [
    "# Accede a la segunda fila completa\n",
    "fila2 = matriz1[1, :]\n",
    "print(\"Segunda fila completa:\", fila2)"
   ]
  },
  {
   "cell_type": "code",
   "execution_count": 5,
   "id": "abd6d18e-db56-4e41-aff2-63200d5a472f",
   "metadata": {},
   "outputs": [
    {
     "name": "stdout",
     "output_type": "stream",
     "text": [
      "Tercera columna completa: [3 6 9]\n"
     ]
    }
   ],
   "source": [
    "# Accede a la tercera columna completa\n",
    "columna3 = matriz1[:, 2]\n",
    "print(\"Tercera columna completa:\", columna3)"
   ]
  },
  {
   "cell_type": "markdown",
   "id": "37bd6b3b-3107-40a6-a14a-c881c20d95be",
   "metadata": {},
   "source": [
    "### 4.2. Transposición de matrices"
   ]
  },
  {
   "cell_type": "code",
   "execution_count": 6,
   "id": "7d2f43b9-72ce-4ceb-b15b-233616eb7071",
   "metadata": {},
   "outputs": [],
   "source": [
    "# Crea una matriz de 2x3\n",
    "matriz2 = np.array([[1, 2, 3], [4, 5, 6]])"
   ]
  },
  {
   "cell_type": "code",
   "execution_count": 7,
   "id": "49fa174f-fef7-4b3a-ac9c-bffc417b24b5",
   "metadata": {},
   "outputs": [
    {
     "name": "stdout",
     "output_type": "stream",
     "text": [
      "Matriz original:\n",
      " [[1 2 3]\n",
      " [4 5 6]]\n",
      "\n",
      "Matriz transpuesta:\n",
      " [[1 4]\n",
      " [2 5]\n",
      " [3 6]]\n"
     ]
    }
   ],
   "source": [
    "# Transpone la matriz\n",
    "transpuesta = np.transpose(matriz2)\n",
    "print(\"Matriz original:\\n\", matriz2)\n",
    "print(\"\\nMatriz transpuesta:\\n\", transpuesta)"
   ]
  },
  {
   "cell_type": "markdown",
   "id": "b4e086bc-6e9e-4273-a927-00b347e017b4",
   "metadata": {},
   "source": [
    "### 4.3. Multiplicación de matrices (producto matricial)"
   ]
  },
  {
   "cell_type": "code",
   "execution_count": 8,
   "id": "f053a28f-70e2-4533-ad61-468eb24ce332",
   "metadata": {},
   "outputs": [],
   "source": [
    "# Crea dos matrices 2x2\n",
    "matriz3 = np.array([[1, 2], [3, 4]])\n",
    "matriz4 = np.array([[5, 6], [7, 8]])"
   ]
  },
  {
   "cell_type": "code",
   "execution_count": 9,
   "id": "f0727ac9-e717-4024-a29a-fcb4635b6c9e",
   "metadata": {},
   "outputs": [
    {
     "name": "stdout",
     "output_type": "stream",
     "text": [
      "Producto matricial de 2x2:\n",
      " [[19 22]\n",
      " [43 50]]\n"
     ]
    }
   ],
   "source": [
    "# Producto matricial de las dos matrices\n",
    "producto_matrices = np.dot(matriz3, matriz4)\n",
    "print(\"Producto matricial de 2x2:\\n\", producto_matrices)"
   ]
  },
  {
   "cell_type": "code",
   "execution_count": 10,
   "id": "f2987df1-2789-4fab-904d-1fa4e9176a95",
   "metadata": {},
   "outputs": [
    {
     "name": "stdout",
     "output_type": "stream",
     "text": [
      "\n",
      "Producto matricial usando @:\n",
      " [[19 22]\n",
      " [43 50]]\n"
     ]
    }
   ],
   "source": [
    "# Alternativa con el operador @\n",
    "producto_matrices2 = matriz3 @ matriz4\n",
    "print(\"\\nProducto matricial usando @:\\n\", producto_matrices2)"
   ]
  },
  {
   "cell_type": "markdown",
   "id": "2dc4fe4a-b7bd-47bc-94d6-a0c3d9abe730",
   "metadata": {},
   "source": [
    "### 4.4. Multiplicación de matrices y vectores"
   ]
  },
  {
   "cell_type": "code",
   "execution_count": 11,
   "id": "076d9795-4a47-4561-b3d2-f6b0def37fb2",
   "metadata": {},
   "outputs": [],
   "source": [
    "# Crea una matriz 3x3\n",
    "matriz5 = np.array([[1, 2, 3], [4, 5, 6], [7, 8, 9]])"
   ]
  },
  {
   "cell_type": "code",
   "execution_count": 12,
   "id": "ce67907d-3ad7-4257-9c69-b8d925f1e46b",
   "metadata": {},
   "outputs": [],
   "source": [
    "# Crea un vector columna de 3 elementos\n",
    "vector = np.array([1, 2, 3])"
   ]
  },
  {
   "cell_type": "code",
   "execution_count": 13,
   "id": "a1f08634-ace4-4b69-b1c4-41610b72dfe3",
   "metadata": {},
   "outputs": [
    {
     "name": "stdout",
     "output_type": "stream",
     "text": [
      "Producto de matriz 3x3 y vector columna: [14 32 50]\n"
     ]
    }
   ],
   "source": [
    "# Producto de la matriz 3x3 con el vector\n",
    "producto_matriz_vector = np.dot(matriz5, vector)\n",
    "print(\"Producto de matriz 3x3 y vector columna:\", producto_matriz_vector)\n"
   ]
  },
  {
   "cell_type": "markdown",
   "id": "ea6684b4-7bc3-40d6-9531-478686a33358",
   "metadata": {},
   "source": [
    "### 4.5. Determinante de una matriz"
   ]
  },
  {
   "cell_type": "code",
   "execution_count": 15,
   "id": "043a150d-abbb-4552-8d9f-0b9828711294",
   "metadata": {},
   "outputs": [],
   "source": [
    "# Crea una matriz 3x3\n",
    "matriz6 = np.array([[1, 2, 3], [4, 5, 6], [7, 8, 9]])"
   ]
  },
  {
   "cell_type": "code",
   "execution_count": 16,
   "id": "b24ba2db-dd65-48b2-bbc1-219ae435e1cc",
   "metadata": {},
   "outputs": [
    {
     "name": "stdout",
     "output_type": "stream",
     "text": [
      "Determinante de la matriz 3x3: 0.0\n"
     ]
    }
   ],
   "source": [
    "# Calcula el determinante de la matriz\n",
    "determinante = np.linalg.det(matriz6)\n",
    "print(\"Determinante de la matriz 3x3:\", determinante)"
   ]
  },
  {
   "cell_type": "code",
   "execution_count": null,
   "id": "d8d38c88-acac-4687-9c13-3fb43a1cfe50",
   "metadata": {},
   "outputs": [],
   "source": []
  }
 ],
 "metadata": {
  "kernelspec": {
   "display_name": "Python 3 (ipykernel)",
   "language": "python",
   "name": "python3"
  },
  "language_info": {
   "codemirror_mode": {
    "name": "ipython",
    "version": 3
   },
   "file_extension": ".py",
   "mimetype": "text/x-python",
   "name": "python",
   "nbconvert_exporter": "python",
   "pygments_lexer": "ipython3",
   "version": "3.9.19"
  }
 },
 "nbformat": 4,
 "nbformat_minor": 5
}

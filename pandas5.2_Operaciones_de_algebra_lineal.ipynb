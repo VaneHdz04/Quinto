{
 "cells": [
  {
   "cell_type": "markdown",
   "id": "5a6e36c7-e982-4149-961a-bec9db46734d",
   "metadata": {},
   "source": [
    "# Numpy"
   ]
  },
  {
   "cell_type": "code",
   "execution_count": 1,
   "id": "4c39ea0c-62ab-49cb-b3af-cc5d0ed53d39",
   "metadata": {},
   "outputs": [],
   "source": [
    "import numpy as np"
   ]
  },
  {
   "cell_type": "markdown",
   "id": "36705413-f779-4e0f-ba09-a0df65982099",
   "metadata": {},
   "source": [
    "## 5. Operaciones de álgebra lineal"
   ]
  },
  {
   "cell_type": "markdown",
   "id": "f44f161c-49c0-4f66-ba1f-e3042353a7cb",
   "metadata": {},
   "source": [
    "### 5.6. Determinante de una matriz"
   ]
  },
  {
   "cell_type": "code",
   "execution_count": 2,
   "id": "310e6f49-f94a-4ada-b4b2-6d643414307f",
   "metadata": {},
   "outputs": [],
   "source": [
    "# Crea una matriz 3x3\n",
    "matriz2 = np.array([[1, 2, 3], [4, 5, 6], [7, 8, 9]])"
   ]
  },
  {
   "cell_type": "code",
   "execution_count": 3,
   "id": "c9eafd4a-44da-46fc-b2af-4e380bc37efb",
   "metadata": {},
   "outputs": [
    {
     "name": "stdout",
     "output_type": "stream",
     "text": [
      "Determinante de la matriz 3x3: 0.0\n"
     ]
    }
   ],
   "source": [
    "# Calcula el determinante\n",
    "determinante = np.linalg.det(matriz2)\n",
    "print(\"Determinante de la matriz 3x3:\", determinante)"
   ]
  },
  {
   "cell_type": "markdown",
   "id": "bdaff4fb-0ea7-424c-9763-9471ec7e240a",
   "metadata": {},
   "source": [
    "### 5.7. Inversa de una matriz"
   ]
  },
  {
   "cell_type": "code",
   "execution_count": 4,
   "id": "8dad0e1f-a2b1-402a-a13b-12dd9856e2ee",
   "metadata": {},
   "outputs": [],
   "source": [
    "# Define una matriz 2x2 invertible\n",
    "matriz3 = np.array([[4, 7], [2, 6]])"
   ]
  },
  {
   "cell_type": "code",
   "execution_count": 5,
   "id": "c97e1bb0-7ee5-4a88-9ad1-364415c9f34e",
   "metadata": {},
   "outputs": [
    {
     "name": "stdout",
     "output_type": "stream",
     "text": [
      "Matriz inversa:\n",
      " [[ 0.6 -0.7]\n",
      " [-0.2  0.4]]\n"
     ]
    }
   ],
   "source": [
    "# Calcula la inversa de la matriz\n",
    "inversa = np.linalg.inv(matriz3)\n",
    "print(\"Matriz inversa:\\n\", inversa)"
   ]
  },
  {
   "cell_type": "markdown",
   "id": "e570998b-e443-4215-b7df-a08dd27b0b32",
   "metadata": {},
   "source": [
    "### 5.8. Factorización LU"
   ]
  },
  {
   "cell_type": "code",
   "execution_count": 9,
   "id": "2be09445-cdc3-4a8b-8ee4-06d06b19c6f0",
   "metadata": {},
   "outputs": [],
   "source": [
    "from scipy.linalg import lu"
   ]
  },
  {
   "cell_type": "code",
   "execution_count": 10,
   "id": "a7055073-9977-4e73-9179-c4c5e754f158",
   "metadata": {},
   "outputs": [],
   "source": [
    "# Crea una matriz 3x3\n",
    "matriz4 = np.array([[1, 2, 3], [4, 5, 6], [7, 8, 0]])"
   ]
  },
  {
   "cell_type": "code",
   "execution_count": 11,
   "id": "1571ae1a-734b-4349-8549-f64b1a0a745f",
   "metadata": {},
   "outputs": [
    {
     "name": "stdout",
     "output_type": "stream",
     "text": [
      "Matriz P:\n",
      " [[0. 1. 0.]\n",
      " [0. 0. 1.]\n",
      " [1. 0. 0.]]\n",
      "\n",
      "Matriz L:\n",
      " [[1.         0.         0.        ]\n",
      " [0.14285714 1.         0.        ]\n",
      " [0.57142857 0.5        1.        ]]\n",
      "\n",
      "Matriz U:\n",
      " [[7.         8.         0.        ]\n",
      " [0.         0.85714286 3.        ]\n",
      " [0.         0.         4.5       ]]\n"
     ]
    }
   ],
   "source": [
    "# Descomposición LU\n",
    "P, L, U = lu(matriz4)\n",
    "print(\"Matriz P:\\n\", P)\n",
    "print(\"\\nMatriz L:\\n\", L)\n",
    "print(\"\\nMatriz U:\\n\", U)"
   ]
  },
  {
   "cell_type": "markdown",
   "id": "11b5c999-9be7-4b9b-bac0-e95c33cba2cf",
   "metadata": {},
   "source": [
    "### 5.9. Singular Value Decomposition (SVD)"
   ]
  },
  {
   "cell_type": "code",
   "execution_count": 12,
   "id": "a64b7457-adc7-48ad-a028-cc1bbfc7851c",
   "metadata": {},
   "outputs": [],
   "source": [
    "# Crea una matriz 2x3\n",
    "matriz5 = np.array([[1, 0, 0], [0, 1, 0]])"
   ]
  },
  {
   "cell_type": "code",
   "execution_count": 13,
   "id": "21b15d10-5b9c-4e13-bee9-1d3a3da5a54e",
   "metadata": {},
   "outputs": [
    {
     "name": "stdout",
     "output_type": "stream",
     "text": [
      "Matriz U:\n",
      " [[1. 0.]\n",
      " [0. 1.]]\n",
      "\n",
      "Valores singulares (S): [1. 1.]\n",
      "\n",
      "Matriz Vt:\n",
      " [[1. 0. 0.]\n",
      " [0. 1. 0.]\n",
      " [0. 0. 1.]]\n"
     ]
    }
   ],
   "source": [
    "# Descomposición SVD\n",
    "U, S, Vt = np.linalg.svd(matriz5)\n",
    "print(\"Matriz U:\\n\", U)\n",
    "print(\"\\nValores singulares (S):\", S)\n",
    "print(\"\\nMatriz Vt:\\n\", Vt)"
   ]
  },
  {
   "cell_type": "markdown",
   "id": "17ff794d-ae46-4860-be6b-674e2ac12fea",
   "metadata": {},
   "source": [
    "### 5.10. Matriz de Gram"
   ]
  },
  {
   "cell_type": "code",
   "execution_count": 14,
   "id": "5f5a8326-fcb6-4fce-bf94-77aa1c92bb5e",
   "metadata": {},
   "outputs": [],
   "source": [
    "# Define un conjunto de vectores como filas de una matriz\n",
    "vectores = np.array([[1, 2, 3], [4, 5, 6], [7, 8, 9]])"
   ]
  },
  {
   "cell_type": "code",
   "execution_count": 15,
   "id": "67270ef4-881d-4c23-9acf-6bb0aa9bfe9b",
   "metadata": {},
   "outputs": [
    {
     "name": "stdout",
     "output_type": "stream",
     "text": [
      "Matriz de Gram:\n",
      " [[ 66  78  90]\n",
      " [ 78  93 108]\n",
      " [ 90 108 126]]\n"
     ]
    }
   ],
   "source": [
    "# Matriz de Gram: G = A^T A\n",
    "matriz_gram = np.dot(vectores.T, vectores)\n",
    "print(\"Matriz de Gram:\\n\", matriz_gram)"
   ]
  },
  {
   "cell_type": "code",
   "execution_count": null,
   "id": "99a47bfc-b577-4575-b5a9-57f22f953c28",
   "metadata": {},
   "outputs": [],
   "source": []
  }
 ],
 "metadata": {
  "kernelspec": {
   "display_name": "Python 3 (ipykernel)",
   "language": "python",
   "name": "python3"
  },
  "language_info": {
   "codemirror_mode": {
    "name": "ipython",
    "version": 3
   },
   "file_extension": ".py",
   "mimetype": "text/x-python",
   "name": "python",
   "nbconvert_exporter": "python",
   "pygments_lexer": "ipython3",
   "version": "3.9.19"
  }
 },
 "nbformat": 4,
 "nbformat_minor": 5
}

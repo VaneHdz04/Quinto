{
 "cells": [
  {
   "cell_type": "markdown",
   "id": "1175b8e2-4ede-4f8e-93db-3d8741bc20e7",
   "metadata": {},
   "source": [
    "# Numpy"
   ]
  },
  {
   "cell_type": "code",
   "execution_count": 1,
   "id": "93f4d8dc-125d-431a-aa33-f6f743987213",
   "metadata": {},
   "outputs": [],
   "source": [
    "import numpy as np"
   ]
  },
  {
   "cell_type": "markdown",
   "id": "fa23f721-d3dc-44fe-9f4a-7a886363579c",
   "metadata": {},
   "source": [
    "### 2.6. Uso de condiciones para modificar elementos"
   ]
  },
  {
   "cell_type": "code",
   "execution_count": 2,
   "id": "2dd742b6-2b96-45e5-be65-fa498a4f8832",
   "metadata": {},
   "outputs": [
    {
     "name": "stdout",
     "output_type": "stream",
     "text": [
      "Array 5x5:\n",
      " [[10 11 12 13 14]\n",
      " [15 16 17 18 19]\n",
      " [20 21 22 23 24]\n",
      " [25 26 27 28 29]\n",
      " [30 31 32 33 34]]\n"
     ]
    }
   ],
   "source": [
    "# Crea un array 5x5 con números del 10 al 34\n",
    "array6 = np.arange(10, 35).reshape(5, 5)\n",
    "print(\"Array 5x5:\\n\", array6)\n"
   ]
  },
  {
   "cell_type": "code",
   "execution_count": 3,
   "id": "db62bd41-03d6-4d04-9310-2ba3e99979a5",
   "metadata": {},
   "outputs": [
    {
     "name": "stdout",
     "output_type": "stream",
     "text": [
      "\n",
      "Array después de reemplazar valores mayores que 20 por 0:\n",
      " [[10 11 12 13 14]\n",
      " [15 16 17 18 19]\n",
      " [20  0  0  0  0]\n",
      " [ 0  0  0  0  0]\n",
      " [ 0  0  0  0  0]]\n"
     ]
    }
   ],
   "source": [
    "# Reemplaza los valores mayores que 20 por 0\n",
    "array_modificado = np.where(array6 > 20, 0, array6)\n",
    "print(\"\\nArray después de reemplazar valores mayores que 20 por 0:\\n\", array_modificado)"
   ]
  },
  {
   "cell_type": "code",
   "execution_count": 4,
   "id": "a5937acb-f96f-477c-aa89-47bd4597de48",
   "metadata": {},
   "outputs": [
    {
     "name": "stdout",
     "output_type": "stream",
     "text": [
      "\n",
      "Elementos menores que 15: [10 11 12 13 14]\n"
     ]
    }
   ],
   "source": [
    "# Extrae los elementos menores que 15\n",
    "elementos_menores_que_15 = array6[array6 < 15]\n",
    "print(\"\\nElementos menores que 15:\", elementos_menores_que_15)"
   ]
  },
  {
   "cell_type": "code",
   "execution_count": 5,
   "id": "e5c24d77-dbad-49fd-8086-54ffa781e5fa",
   "metadata": {},
   "outputs": [
    {
     "name": "stdout",
     "output_type": "stream",
     "text": [
      "\n",
      "Array después de cambiar los valores menores que 18 por -1:\n",
      " [[-1 -1 -1 -1 -1]\n",
      " [-1 -1 -1 18 19]\n",
      " [20 21 22 23 24]\n",
      " [25 26 27 28 29]\n",
      " [30 31 32 33 34]]\n"
     ]
    }
   ],
   "source": [
    "# Cambia los valores menores que 18 por -1\n",
    "array6[array6 < 18] = -1\n",
    "print(\"\\nArray después de cambiar los valores menores que 18 por -1:\\n\", array6)"
   ]
  },
  {
   "cell_type": "markdown",
   "id": "248a7c79-b74c-4db6-8ed8-e78e94929c92",
   "metadata": {},
   "source": [
    "### 2.7. Indexación con arrays booleanos"
   ]
  },
  {
   "cell_type": "code",
   "execution_count": 6,
   "id": "7245b1c1-8bc6-4e4a-8424-072347bf6aee",
   "metadata": {},
   "outputs": [
    {
     "name": "stdout",
     "output_type": "stream",
     "text": [
      "Array 3x4 con valores aleatorios:\n",
      " [[0 7 9 5]\n",
      " [6 4 8 6]\n",
      " [4 0 0 3]]\n"
     ]
    }
   ],
   "source": [
    "# Crea un array 3x4 con valores aleatorios enteros entre 0 y 9\n",
    "array7 = np.random.randint(0, 10, size=(3, 4))\n",
    "print(\"Array 3x4 con valores aleatorios:\\n\", array7)"
   ]
  },
  {
   "cell_type": "code",
   "execution_count": 7,
   "id": "f81c293e-97d4-43be-8cf9-6181df893ad4",
   "metadata": {},
   "outputs": [
    {
     "name": "stdout",
     "output_type": "stream",
     "text": [
      "\n",
      "Máscara booleana (valores > 5):\n",
      " [[False  True  True False]\n",
      " [ True False  True  True]\n",
      " [False False False False]]\n"
     ]
    }
   ],
   "source": [
    "# Crea una máscara booleana para los elementos mayores que 5\n",
    "mascara_mayores_que_5 = array7 > 5\n",
    "print(\"\\nMáscara booleana (valores > 5):\\n\", mascara_mayores_que_5)"
   ]
  },
  {
   "cell_type": "code",
   "execution_count": 8,
   "id": "4513c16d-78ad-4b13-9867-a2f6a19f2186",
   "metadata": {},
   "outputs": [
    {
     "name": "stdout",
     "output_type": "stream",
     "text": [
      "\n",
      "Elementos mayores que 5: [7 9 6 8 6]\n"
     ]
    }
   ],
   "source": [
    "# Usando la máscara, extrae los elementos mayores que 5\n",
    "elementos_mayores_que_5 = array7[mascara_mayores_que_5]\n",
    "print(\"\\nElementos mayores que 5:\", elementos_mayores_que_5)"
   ]
  },
  {
   "cell_type": "code",
   "execution_count": 10,
   "id": "3b8497d6-a91e-4554-bdc7-e89501c36913",
   "metadata": {},
   "outputs": [
    {
     "name": "stdout",
     "output_type": "stream",
     "text": [
      "\n",
      "Array después de cambiar valores mayores que 5 por -2:\n",
      " [[ 0 -2 -2  5]\n",
      " [-2  4 -2 -2]\n",
      " [ 4  0  0  3]]\n"
     ]
    }
   ],
   "source": [
    "# Cambia todos los valores mayores que 5 por -2\n",
    "array7[array7 > 5] = -2\n",
    "print(\"\\nArray después de cambiar valores mayores que 5 por -2:\\n\", array7)"
   ]
  },
  {
   "cell_type": "markdown",
   "id": "d3dc9e31-a2f6-4a60-848a-67df2352e735",
   "metadata": {},
   "source": [
    "### 2.8. Indexación por posiciones específicas con np.ix_"
   ]
  },
  {
   "cell_type": "code",
   "execution_count": 11,
   "id": "2ee12f2e-9f35-49d1-b535-967740a4150e",
   "metadata": {},
   "outputs": [
    {
     "name": "stdout",
     "output_type": "stream",
     "text": [
      "Array 5x5:\n",
      " [[ 0  1  2  3  4]\n",
      " [ 5  6  7  8  9]\n",
      " [10 11 12 13 14]\n",
      " [15 16 17 18 19]\n",
      " [20 21 22 23 24]]\n"
     ]
    }
   ],
   "source": [
    "# Crea un array 5x5 con números del 0 al 24\n",
    "array8 = np.arange(25).reshape(5, 5)\n",
    "print(\"Array 5x5:\\n\", array8)"
   ]
  },
  {
   "cell_type": "code",
   "execution_count": 12,
   "id": "63c6a734-5c2f-4ea7-b324-3d7726fb563d",
   "metadata": {},
   "outputs": [
    {
     "name": "stdout",
     "output_type": "stream",
     "text": [
      "\n",
      "Submatriz usando np.ix_:\n",
      " [[ 5  7  9]\n",
      " [15 17 19]]\n"
     ]
    }
   ],
   "source": [
    "# Usa np.ix_ para obtener una submatriz usando filas y columnas específicas\n",
    "filas = [1, 3]\n",
    "columnas = [0, 2, 4]\n",
    "submatriz = array8[np.ix_(filas, columnas)]\n",
    "print(\"\\nSubmatriz usando np.ix_:\\n\", submatriz)"
   ]
  },
  {
   "cell_type": "markdown",
   "id": "fff5f2cb-cab3-470a-a0b4-57e5cf6779b1",
   "metadata": {},
   "source": [
    "### 2.9. Obtener elementos alternos en una fila o columna"
   ]
  },
  {
   "cell_type": "code",
   "execution_count": 13,
   "id": "2e1f8622-dd18-4726-8ce0-6c9e268f4c12",
   "metadata": {},
   "outputs": [
    {
     "name": "stdout",
     "output_type": "stream",
     "text": [
      "Array 6x6:\n",
      " [[10 11 12 13 14 15]\n",
      " [16 17 18 19 20 21]\n",
      " [22 23 24 25 26 27]\n",
      " [28 29 30 31 32 33]\n",
      " [34 35 36 37 38 39]\n",
      " [40 41 42 43 44 45]]\n"
     ]
    }
   ],
   "source": [
    "# Crea un array de 6x6 con números del 10 al 45\n",
    "array9 = np.arange(10, 46).reshape(6, 6)\n",
    "print(\"Array 6x6:\\n\", array9)"
   ]
  },
  {
   "cell_type": "code",
   "execution_count": 14,
   "id": "4544318a-32db-42b1-8943-4b7f238efbba",
   "metadata": {},
   "outputs": [
    {
     "name": "stdout",
     "output_type": "stream",
     "text": [
      "\n",
      "Elementos alternos en la primera fila: [10 12 14]\n"
     ]
    }
   ],
   "source": [
    "# Extrae los elementos de la primera fila de forma alterna\n",
    "elementos_alternos_fila = array9[0, ::2]\n",
    "print(\"\\nElementos alternos en la primera fila:\", elementos_alternos_fila)"
   ]
  },
  {
   "cell_type": "code",
   "execution_count": 15,
   "id": "47f46974-8830-435e-9678-031329508d3b",
   "metadata": {},
   "outputs": [
    {
     "name": "stdout",
     "output_type": "stream",
     "text": [
      "\n",
      "Elementos alternos en la segunda columna: [11 23 35]\n"
     ]
    }
   ],
   "source": [
    "# Extrae los elementos de la segunda columna de forma alterna\n",
    "elementos_alternos_columna = array9[::2, 1]\n",
    "print(\"\\nElementos alternos en la segunda columna:\", elementos_alternos_columna)"
   ]
  },
  {
   "cell_type": "markdown",
   "id": "b9e4cda6-4e3b-4341-8584-e84129d76246",
   "metadata": {},
   "source": [
    "### 2.10. Trabajar con índices negativos"
   ]
  },
  {
   "cell_type": "code",
   "execution_count": 16,
   "id": "54de533a-9f59-4ffd-be24-63ed7e8ff6d8",
   "metadata": {},
   "outputs": [
    {
     "name": "stdout",
     "output_type": "stream",
     "text": [
      "Array 4x4:\n",
      " [[ 1  2  3  4]\n",
      " [ 5  6  7  8]\n",
      " [ 9 10 11 12]\n",
      " [13 14 15 16]]\n"
     ]
    }
   ],
   "source": [
    "# Crea un array de 4x4 con números del 1 al 16\n",
    "array10 = np.arange(1, 17).reshape(4, 4)\n",
    "print(\"Array 4x4:\\n\", array10)"
   ]
  },
  {
   "cell_type": "code",
   "execution_count": 17,
   "id": "737f7611-2b9d-4af9-b39d-29f080753c26",
   "metadata": {},
   "outputs": [
    {
     "name": "stdout",
     "output_type": "stream",
     "text": [
      "\n",
      "Última fila usando índices negativos: [13 14 15 16]\n"
     ]
    }
   ],
   "source": [
    "# Obtén los elementos de la última fila usando índices negativos\n",
    "ultima_fila = array10[-1, :]\n",
    "print(\"\\nÚltima fila usando índices negativos:\", ultima_fila)"
   ]
  },
  {
   "cell_type": "code",
   "execution_count": 18,
   "id": "313c93a5-96f9-493c-b590-00b7f229ee45",
   "metadata": {},
   "outputs": [
    {
     "name": "stdout",
     "output_type": "stream",
     "text": [
      "\n",
      "Dos últimas columnas usando índices negativos:\n",
      " [[ 3  4]\n",
      " [ 7  8]\n",
      " [11 12]\n",
      " [15 16]]\n"
     ]
    }
   ],
   "source": [
    "# Obtén los elementos de las dos últimas columnas usando índices negativos\n",
    "ultimas_columnas = array10[:, -2:]\n",
    "print(\"\\nDos últimas columnas usando índices negativos:\\n\", ultimas_columnas)"
   ]
  },
  {
   "cell_type": "code",
   "execution_count": null,
   "id": "b6e87601-4d6b-4b91-8f23-6971c1103905",
   "metadata": {},
   "outputs": [],
   "source": []
  }
 ],
 "metadata": {
  "kernelspec": {
   "display_name": "Python 3 (ipykernel)",
   "language": "python",
   "name": "python3"
  },
  "language_info": {
   "codemirror_mode": {
    "name": "ipython",
    "version": 3
   },
   "file_extension": ".py",
   "mimetype": "text/x-python",
   "name": "python",
   "nbconvert_exporter": "python",
   "pygments_lexer": "ipython3",
   "version": "3.9.19"
  }
 },
 "nbformat": 4,
 "nbformat_minor": 5
}

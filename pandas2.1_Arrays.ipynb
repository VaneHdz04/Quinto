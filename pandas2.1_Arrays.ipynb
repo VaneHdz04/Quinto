{
 "cells": [
  {
   "cell_type": "markdown",
   "id": "dd69f58f-68e2-4593-b7c1-2f0e14ce2946",
   "metadata": {},
   "source": [
    "# Numpy"
   ]
  },
  {
   "cell_type": "markdown",
   "id": "63b5061e-3693-42ab-a8d0-1314e4948043",
   "metadata": {},
   "source": [
    "### 2.1. Extraer subarrays y modificar elementos"
   ]
  },
  {
   "cell_type": "code",
   "execution_count": 1,
   "id": "8bbf9b5e-0cfb-4ce4-a624-17e5670c1427",
   "metadata": {},
   "outputs": [
    {
     "name": "stdout",
     "output_type": "stream",
     "text": [
      "Array 5x5:\n",
      " [[ 0  1  2  3  4]\n",
      " [ 5  6  7  8  9]\n",
      " [10 11 12 13 14]\n",
      " [15 16 17 18 19]\n",
      " [20 21 22 23 24]]\n"
     ]
    }
   ],
   "source": [
    "import numpy as np\n",
    "# Crea un array 5x5 con números del 0 al 24\n",
    "array1 = np.arange(25).reshape(5, 5)\n",
    "print(\"Array 5x5:\\n\", array1)"
   ]
  },
  {
   "cell_type": "code",
   "execution_count": 2,
   "id": "4f961499-7e94-4d8f-a768-6b2c5f5e65c9",
   "metadata": {},
   "outputs": [
    {
     "name": "stdout",
     "output_type": "stream",
     "text": [
      "\n",
      "Subarray con las primeras 3 filas y columnas:\n",
      " [[ 0  1  2]\n",
      " [ 5  6  7]\n",
      " [10 11 12]]\n"
     ]
    }
   ],
   "source": [
    "# Extrae las primeras tres filas y las primeras tres columnas\n",
    "sub_array1 = array1[:3, :3]\n",
    "print(\"\\nSubarray con las primeras 3 filas y columnas:\\n\", sub_array1)\n"
   ]
  },
  {
   "cell_type": "code",
   "execution_count": 3,
   "id": "0a69a792-e554-4756-bf00-5e662e13dad7",
   "metadata": {},
   "outputs": [
    {
     "name": "stdout",
     "output_type": "stream",
     "text": [
      "\n",
      "Array después de cambiar el valor en [1, 2]:\n",
      " [[ 0  1  2  3  4]\n",
      " [ 5  6 99  8  9]\n",
      " [10 11 12 13 14]\n",
      " [15 16 17 18 19]\n",
      " [20 21 22 23 24]]\n"
     ]
    }
   ],
   "source": [
    "# Cambia el valor del elemento en la posición [1, 2] por 99\n",
    "array1[1, 2] = 99\n",
    "print(\"\\nArray después de cambiar el valor en [1, 2]:\\n\", array1)"
   ]
  },
  {
   "cell_type": "markdown",
   "id": "7283b55a-e064-4c38-9a8d-13e4d932981b",
   "metadata": {},
   "source": [
    "### 2.2. Obtener elementos en posiciones específicas"
   ]
  },
  {
   "cell_type": "code",
   "execution_count": 4,
   "id": "6b0e6016-15c6-4691-a516-b60fc0507a30",
   "metadata": {},
   "outputs": [
    {
     "name": "stdout",
     "output_type": "stream",
     "text": [
      "Array 6x6:\n",
      " [[ 0  1  2  3  4  5]\n",
      " [ 6  7  8  9 10 11]\n",
      " [12 13 14 15 16 17]\n",
      " [18 19 20 21 22 23]\n",
      " [24 25 26 27 28 29]\n",
      " [30 31 32 33 34 35]]\n"
     ]
    }
   ],
   "source": [
    "# Crea un array 6x6 con números del 0 al 35\n",
    "array2 = np.arange(36).reshape(6, 6)\n",
    "print(\"Array 6x6:\\n\", array2)"
   ]
  },
  {
   "cell_type": "code",
   "execution_count": 5,
   "id": "448fe7fb-39f8-4c8c-8a4c-f82fa96fa31d",
   "metadata": {},
   "outputs": [
    {
     "name": "stdout",
     "output_type": "stream",
     "text": [
      "\n",
      "Primera fila: [0 1 2 3 4 5]\n"
     ]
    }
   ],
   "source": [
    "# Obtén los elementos de la primera fila\n",
    "primera_fila = array2[0, :]\n",
    "print(\"\\nPrimera fila:\", primera_fila)"
   ]
  },
  {
   "cell_type": "code",
   "execution_count": 6,
   "id": "6ed40077-6a36-4b46-ae22-c10225efdeba",
   "metadata": {},
   "outputs": [
    {
     "name": "stdout",
     "output_type": "stream",
     "text": [
      "\n",
      "Última columna: [ 5 11 17 23 29 35]\n"
     ]
    }
   ],
   "source": [
    "# Obtén los elementos de la última columna\n",
    "ultima_columna = array2[:, -1]\n",
    "print(\"\\nÚltima columna:\", ultima_columna)"
   ]
  },
  {
   "cell_type": "code",
   "execution_count": 7,
   "id": "25e776ca-e502-4b4e-ab22-c2876742056d",
   "metadata": {},
   "outputs": [
    {
     "name": "stdout",
     "output_type": "stream",
     "text": [
      "\n",
      "Elementos en la diagonal en posiciones específicas (1,1), (2,2), (3,3): [ 7 14 21]\n"
     ]
    }
   ],
   "source": [
    "# Obtén los elementos de las posiciones (1, 1), (2, 2) y (3, 3)\n",
    "elementos_diagonal = array2[[1, 2, 3], [1, 2, 3]]\n",
    "print(\"\\nElementos en la diagonal en posiciones específicas (1,1), (2,2), (3,3):\", elementos_diagonal)\n"
   ]
  },
  {
   "cell_type": "markdown",
   "id": "239dfb48-46db-45fe-af60-e45762ad67d7",
   "metadata": {},
   "source": [
    "### 2.3. Slicing avanzado en arrays 3D"
   ]
  },
  {
   "cell_type": "code",
   "execution_count": 8,
   "id": "0c96e45d-59a8-4cb4-a624-3edc1bb7fe2b",
   "metadata": {},
   "outputs": [
    {
     "name": "stdout",
     "output_type": "stream",
     "text": [
      "Array 3D 3x3x3:\n",
      " [[[ 0  1  2]\n",
      "  [ 3  4  5]\n",
      "  [ 6  7  8]]\n",
      "\n",
      " [[ 9 10 11]\n",
      "  [12 13 14]\n",
      "  [15 16 17]]\n",
      "\n",
      " [[18 19 20]\n",
      "  [21 22 23]\n",
      "  [24 25 26]]]\n"
     ]
    }
   ],
   "source": [
    "# Crea un array 3x3x3 con números del 0 al 26\n",
    "array3 = np.arange(27).reshape(3, 3, 3)\n",
    "print(\"Array 3D 3x3x3:\\n\", array3)"
   ]
  },
  {
   "cell_type": "code",
   "execution_count": 9,
   "id": "7a6a43a0-3f6e-4352-8a7a-0473f151bf92",
   "metadata": {},
   "outputs": [
    {
     "name": "stdout",
     "output_type": "stream",
     "text": [
      "\n",
      "Primer bloque 2D del array 3D:\n",
      " [[0 1 2]\n",
      " [3 4 5]\n",
      " [6 7 8]]\n"
     ]
    }
   ],
   "source": [
    "# Obtén el primer \"bloque\" 2D del array 3D\n",
    "bloque_2d = array3[0, :, :]\n",
    "print(\"\\nPrimer bloque 2D del array 3D:\\n\", bloque_2d)\n"
   ]
  },
  {
   "cell_type": "code",
   "execution_count": 10,
   "id": "5eb7d100-6317-4475-afc0-3bc0cb303458",
   "metadata": {},
   "outputs": [
    {
     "name": "stdout",
     "output_type": "stream",
     "text": [
      "\n",
      "Segunda fila del último bloque 2D:\n",
      " [21 22 23]\n"
     ]
    }
   ],
   "source": [
    "# Obtén los elementos del último \"bloque\" 2D en la segunda fila\n",
    "segunda_fila_bloque = array3[-1, 1, :]\n",
    "print(\"\\nSegunda fila del último bloque 2D:\\n\", segunda_fila_bloque)"
   ]
  },
  {
   "cell_type": "code",
   "execution_count": 11,
   "id": "a05a86df-5b0e-4605-bcf7-005963236274",
   "metadata": {},
   "outputs": [
    {
     "name": "stdout",
     "output_type": "stream",
     "text": [
      "\n",
      "Elementos específicos [0,1,2] y [2,1,1]: [ 5 22]\n"
     ]
    }
   ],
   "source": [
    "# Obtén los elementos en la posición [0, 1, 2] y [2, 1, 1]\n",
    "elementos_especificos = array3[[0, 2], [1, 1], [2, 1]]\n",
    "print(\"\\nElementos específicos [0,1,2] y [2,1,1]:\", elementos_especificos)\n"
   ]
  },
  {
   "cell_type": "markdown",
   "id": "ee865af0-80d0-4fd5-b1c5-e4f5a80c4e38",
   "metadata": {},
   "source": [
    "### 2.4. Inversión y manipulación de subarrays"
   ]
  },
  {
   "cell_type": "code",
   "execution_count": 12,
   "id": "9d3d9a9e-67ef-4b6e-bc29-65ac6fdd5083",
   "metadata": {},
   "outputs": [
    {
     "name": "stdout",
     "output_type": "stream",
     "text": [
      "Array 1D original: [ 1  2  3  4  5  6  7  8  9 10]\n"
     ]
    }
   ],
   "source": [
    "# Crea un array de 1D con números del 1 al 10\n",
    "array4 = np.arange(1, 11)\n",
    "print(\"Array 1D original:\", array4)"
   ]
  },
  {
   "cell_type": "code",
   "execution_count": 13,
   "id": "f25cd282-a0d9-4016-8a2b-16e4c416a217",
   "metadata": {},
   "outputs": [
    {
     "name": "stdout",
     "output_type": "stream",
     "text": [
      "\n",
      "Array invertido: [10  9  8  7  6  5  4  3  2  1]\n"
     ]
    }
   ],
   "source": [
    "# Invierte el array\n",
    "array_invertido = array4[::-1]\n",
    "print(\"\\nArray invertido:\", array_invertido)"
   ]
  },
  {
   "cell_type": "code",
   "execution_count": 14,
   "id": "e5fbf4e3-1dce-4ec6-83fb-5fd2b1d3b74d",
   "metadata": {},
   "outputs": [
    {
     "name": "stdout",
     "output_type": "stream",
     "text": [
      "\n",
      "Elementos en posiciones impares: [ 2  4  6  8 10]\n"
     ]
    }
   ],
   "source": [
    "# Extrae los elementos en posiciones impares\n",
    "elementos_impares = array4[1::2]\n",
    "print(\"\\nElementos en posiciones impares:\", elementos_impares)"
   ]
  },
  {
   "cell_type": "code",
   "execution_count": 16,
   "id": "3db98205-f491-48bd-bcdd-c30c4732ed76",
   "metadata": {},
   "outputs": [
    {
     "name": "stdout",
     "output_type": "stream",
     "text": [
      "\n",
      "Array después de cambiar posiciones 2 a 5:\n",
      " [ 1  2 -1 -1 -1  6  7  8  9 10]\n"
     ]
    }
   ],
   "source": [
    "# Cambia los elementos del array en las posiciones 2 a 5 (sin incluir 5) a -1\n",
    "array4[2:5] = -1\n",
    "print(\"\\nArray después de cambiar posiciones 2 a 5:\\n\", array4)"
   ]
  },
  {
   "cell_type": "markdown",
   "id": "9880026f-a163-405a-a0c5-f4b91f67120e",
   "metadata": {},
   "source": [
    "### 2.5. Slicing de columnas y filas específicas"
   ]
  },
  {
   "cell_type": "code",
   "execution_count": 17,
   "id": "b4c03c60-fa9b-4fb8-947e-b43e7375abbd",
   "metadata": {},
   "outputs": [
    {
     "name": "stdout",
     "output_type": "stream",
     "text": [
      "Array 4x5:\n",
      " [[ 0  1  2  3  4]\n",
      " [ 5  6  7  8  9]\n",
      " [10 11 12 13 14]\n",
      " [15 16 17 18 19]]\n"
     ]
    }
   ],
   "source": [
    "# Crea un array 4x5 con números del 0 al 19\n",
    "array5 = np.arange(20).reshape(4, 5)\n",
    "print(\"Array 4x5:\\n\", array5)"
   ]
  },
  {
   "cell_type": "code",
   "execution_count": 18,
   "id": "81f90251-118d-44d4-a6ae-e09b59942e36",
   "metadata": {},
   "outputs": [
    {
     "name": "stdout",
     "output_type": "stream",
     "text": [
      "\n",
      "Tercera columna: [ 2  7 12 17]\n"
     ]
    }
   ],
   "source": [
    "# Extrae la tercera columna\n",
    "tercera_columna = array5[:, 2]\n",
    "print(\"\\nTercera columna:\", tercera_columna)"
   ]
  },
  {
   "cell_type": "code",
   "execution_count": 19,
   "id": "62d065b8-0f35-4243-8780-daba1cb884e6",
   "metadata": {},
   "outputs": [
    {
     "name": "stdout",
     "output_type": "stream",
     "text": [
      "\n",
      "Filas 1 y 3:\n",
      " [[ 5  6  7  8  9]\n",
      " [15 16 17 18 19]]\n"
     ]
    }
   ],
   "source": [
    "# Extrae las filas 1 y 3\n",
    "filas_1_y_3 = array5[[1, 3], :]\n",
    "print(\"\\nFilas 1 y 3:\\n\", filas_1_y_3)"
   ]
  },
  {
   "cell_type": "code",
   "execution_count": 20,
   "id": "d7927a69-9cbf-46f7-9466-bcd4a6829a4b",
   "metadata": {},
   "outputs": [
    {
     "name": "stdout",
     "output_type": "stream",
     "text": [
      "\n",
      "Sub-array de las dos primeras filas y columnas 2 y 3:\n",
      " [[2 3]\n",
      " [7 8]]\n"
     ]
    }
   ],
   "source": [
    "# Extrae las primeras dos filas y las columnas 2 y 3\n",
    "sub_array2 = array5[:2, 2:4]\n",
    "print(\"\\nSub-array de las dos primeras filas y columnas 2 y 3:\\n\", sub_array2)"
   ]
  },
  {
   "cell_type": "code",
   "execution_count": null,
   "id": "c191490b-5b4b-4c31-b7b2-6a11b1e1419e",
   "metadata": {},
   "outputs": [],
   "source": []
  }
 ],
 "metadata": {
  "kernelspec": {
   "display_name": "Python 3 (ipykernel)",
   "language": "python",
   "name": "python3"
  },
  "language_info": {
   "codemirror_mode": {
    "name": "ipython",
    "version": 3
   },
   "file_extension": ".py",
   "mimetype": "text/x-python",
   "name": "python",
   "nbconvert_exporter": "python",
   "pygments_lexer": "ipython3",
   "version": "3.9.19"
  }
 },
 "nbformat": 4,
 "nbformat_minor": 5
}

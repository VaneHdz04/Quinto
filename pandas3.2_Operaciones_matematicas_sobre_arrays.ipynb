{
 "cells": [
  {
   "cell_type": "markdown",
   "id": "bc79e6f8-abd3-4cd0-be0b-16e66e8cd8d5",
   "metadata": {},
   "source": [
    "# Numpy"
   ]
  },
  {
   "cell_type": "code",
   "execution_count": 1,
   "id": "9bd343f1-a974-4972-a889-69bfbbb05a41",
   "metadata": {},
   "outputs": [],
   "source": [
    "import numpy as np"
   ]
  },
  {
   "cell_type": "markdown",
   "id": "adfdef46-0a84-4260-8481-1d6b8b11148e",
   "metadata": {},
   "source": [
    "## 3. Operaciones matemáticas sobre arrays"
   ]
  },
  {
   "cell_type": "markdown",
   "id": "25179497-6b1c-45e9-91cc-195ecd3cb6ff",
   "metadata": {},
   "source": [
    "### 3.6. Mínimo, máximo y suma total"
   ]
  },
  {
   "cell_type": "code",
   "execution_count": 2,
   "id": "b43e8f5a-ccd4-4c4c-bcab-bf76f17976c6",
   "metadata": {},
   "outputs": [
    {
     "name": "stdout",
     "output_type": "stream",
     "text": [
      "Array original: [ 5  6  7  8  9 10 11 12 13 14]\n"
     ]
    }
   ],
   "source": [
    "# Crea un array de 1D con números del 5 al 14\n",
    "array5 = np.arange(5, 15)\n",
    "print(\"Array original:\", array5)"
   ]
  },
  {
   "cell_type": "code",
   "execution_count": 3,
   "id": "7b37bc55-2857-4c71-9f39-1f66e668bdc1",
   "metadata": {},
   "outputs": [
    {
     "name": "stdout",
     "output_type": "stream",
     "text": [
      "\n",
      "Valor mínimo: 5\n"
     ]
    }
   ],
   "source": [
    "# Encuentra el valor mínimo\n",
    "minimo = np.min(array5)\n",
    "print(\"\\nValor mínimo:\", minimo)"
   ]
  },
  {
   "cell_type": "code",
   "execution_count": 4,
   "id": "3dc75b7a-ca16-4592-a619-a8f3b8e040fe",
   "metadata": {},
   "outputs": [
    {
     "name": "stdout",
     "output_type": "stream",
     "text": [
      "\n",
      "Valor máximo: 14\n"
     ]
    }
   ],
   "source": [
    "# Encuentra el valor máximo\n",
    "maximo = np.max(array5)\n",
    "print(\"\\nValor máximo:\", maximo)"
   ]
  },
  {
   "cell_type": "code",
   "execution_count": 5,
   "id": "d627b5b3-e54e-4aeb-a2fd-cfaced9ff1f4",
   "metadata": {},
   "outputs": [
    {
     "name": "stdout",
     "output_type": "stream",
     "text": [
      "\n",
      "Suma total de los elementos: 95\n"
     ]
    }
   ],
   "source": [
    "# Suma de todos los elementos\n",
    "suma_total = np.sum(array5)\n",
    "print(\"\\nSuma total de los elementos:\", suma_total)"
   ]
  },
  {
   "cell_type": "markdown",
   "id": "83966b87-bab6-46cc-bf17-d149aa6511cd",
   "metadata": {},
   "source": [
    "### 3.7. Promedio, mediana y desviación estándar"
   ]
  },
  {
   "cell_type": "code",
   "execution_count": 6,
   "id": "f4cdaa02-d537-4de1-815b-24845980f440",
   "metadata": {},
   "outputs": [
    {
     "name": "stdout",
     "output_type": "stream",
     "text": [
      "Array aleatorio: [30 42 26 14  6 39 25 46 26 24]\n"
     ]
    }
   ],
   "source": [
    "# Crea un array con 10 valores aleatorios entre 0 y 50\n",
    "array6 = np.random.randint(0, 51, 10)\n",
    "print(\"Array aleatorio:\", array6)"
   ]
  },
  {
   "cell_type": "code",
   "execution_count": 7,
   "id": "f2de6d34-e008-42d0-98f9-d7fe2f69c357",
   "metadata": {},
   "outputs": [
    {
     "name": "stdout",
     "output_type": "stream",
     "text": [
      "\n",
      "Promedio: 27.8\n"
     ]
    }
   ],
   "source": [
    "# Calcula el promedio\n",
    "promedio = np.mean(array6)\n",
    "print(\"\\nPromedio:\", promedio)\n"
   ]
  },
  {
   "cell_type": "code",
   "execution_count": 8,
   "id": "b7583480-396b-4722-9a38-8476b9209078",
   "metadata": {},
   "outputs": [
    {
     "name": "stdout",
     "output_type": "stream",
     "text": [
      "\n",
      "Mediana: 26.0\n"
     ]
    }
   ],
   "source": [
    "# Calcula la mediana\n",
    "mediana = np.median(array6)\n",
    "print(\"\\nMediana:\", mediana)"
   ]
  },
  {
   "cell_type": "code",
   "execution_count": 9,
   "id": "db1231ba-90bf-456a-b865-5e9c93a8ecdd",
   "metadata": {},
   "outputs": [
    {
     "name": "stdout",
     "output_type": "stream",
     "text": [
      "\n",
      "Desviación estándar: 11.651609330903607\n"
     ]
    }
   ],
   "source": [
    "# Calcula la desviación estándar\n",
    "desviacion = np.std(array6)\n",
    "print(\"\\nDesviación estándar:\", desviacion)"
   ]
  },
  {
   "cell_type": "markdown",
   "id": "19538855-5484-4be5-aaba-f542712d3320",
   "metadata": {},
   "source": [
    "### 3.8. Suma y producto acumulados"
   ]
  },
  {
   "cell_type": "code",
   "execution_count": 10,
   "id": "b2edbc6f-0464-48a5-a439-f29bb6d9b094",
   "metadata": {},
   "outputs": [],
   "source": [
    "# Crea un array de 1D con números del 1 al 5\n",
    "array7 = np.array([1, 2, 3, 4, 5])"
   ]
  },
  {
   "cell_type": "code",
   "execution_count": 11,
   "id": "8559b9f2-82a6-465b-9684-cfcefb030b6b",
   "metadata": {},
   "outputs": [
    {
     "name": "stdout",
     "output_type": "stream",
     "text": [
      "Suma acumulada: [ 1  3  6 10 15]\n"
     ]
    }
   ],
   "source": [
    "# Suma acumulada\n",
    "suma_acumulada = np.cumsum(array7)\n",
    "print(\"Suma acumulada:\", suma_acumulada)"
   ]
  },
  {
   "cell_type": "code",
   "execution_count": 12,
   "id": "ccbff371-0016-4150-ac27-56eeb29b0daa",
   "metadata": {},
   "outputs": [
    {
     "name": "stdout",
     "output_type": "stream",
     "text": [
      "\n",
      "Producto acumulado: [  1   2   6  24 120]\n"
     ]
    }
   ],
   "source": [
    "# Producto acumulado\n",
    "producto_acumulado = np.cumprod(array7)\n",
    "print(\"\\nProducto acumulado:\", producto_acumulado)"
   ]
  },
  {
   "cell_type": "markdown",
   "id": "f2979f6b-f6a5-4289-80fc-0917c4cbef02",
   "metadata": {},
   "source": [
    "### 3.9. Redondeo y truncado"
   ]
  },
  {
   "cell_type": "code",
   "execution_count": 13,
   "id": "f492ac49-82c5-48dd-8b4d-d2ef183fbea7",
   "metadata": {},
   "outputs": [],
   "source": [
    "# Crea un array con números decimales\n",
    "array8 = np.array([1.23, 4.56, 7.89])"
   ]
  },
  {
   "cell_type": "code",
   "execution_count": 14,
   "id": "3456a7a6-6672-41d4-9816-79c18f80367b",
   "metadata": {},
   "outputs": [
    {
     "name": "stdout",
     "output_type": "stream",
     "text": [
      "Array redondeado: [1. 5. 8.]\n"
     ]
    }
   ],
   "source": [
    "# Redondea cada elemento del array\n",
    "redondeado = np.round(array8)\n",
    "print(\"Array redondeado:\", redondeado)"
   ]
  },
  {
   "cell_type": "code",
   "execution_count": 15,
   "id": "4a04f417-6afc-42d6-af79-09bddbffc98e",
   "metadata": {},
   "outputs": [
    {
     "name": "stdout",
     "output_type": "stream",
     "text": [
      "\n",
      "Array truncado: [1. 4. 7.]\n"
     ]
    }
   ],
   "source": [
    "# Trunca cada elemento del array (quita la parte decimal)\n",
    "truncado = np.floor(array8)\n",
    "print(\"\\nArray truncado:\", truncado)\n"
   ]
  },
  {
   "cell_type": "markdown",
   "id": "679b4658-7519-49e5-8a7f-2e86ad93e135",
   "metadata": {},
   "source": [
    "### 3.10. Operaciones lógicas con arrays"
   ]
  },
  {
   "cell_type": "code",
   "execution_count": 16,
   "id": "4f1856f6-6061-4b53-8a5b-b6703262d91a",
   "metadata": {},
   "outputs": [],
   "source": [
    "# Crea dos arrays de 1D\n",
    "array9 = np.array([10, 20, 30])\n",
    "array10 = np.array([5, 25, 35])"
   ]
  },
  {
   "cell_type": "code",
   "execution_count": 17,
   "id": "168cb493-0634-43b2-96e6-a10271265a0d",
   "metadata": {},
   "outputs": [
    {
     "name": "stdout",
     "output_type": "stream",
     "text": [
      "Comparación mayor que: [ True False False]\n"
     ]
    }
   ],
   "source": [
    "# Compara los arrays (mayores que)\n",
    "mayor_que = np.greater(array9, array10)\n",
    "print(\"Comparación mayor que:\", mayor_que)"
   ]
  },
  {
   "cell_type": "code",
   "execution_count": 18,
   "id": "6500cf9c-14c7-44b5-8b58-6fe3c3a8497d",
   "metadata": {},
   "outputs": [
    {
     "name": "stdout",
     "output_type": "stream",
     "text": [
      "\n",
      "Comparación de igualdad: [False False False]\n"
     ]
    }
   ],
   "source": [
    "# Compara los arrays (iguales)\n",
    "igual = np.equal(array9, array10)\n",
    "print(\"\\nComparación de igualdad:\", igual)\n"
   ]
  },
  {
   "cell_type": "code",
   "execution_count": 19,
   "id": "29aa9993-b15d-46d8-b9ad-45f99ceeab88",
   "metadata": {},
   "outputs": [
    {
     "name": "stdout",
     "output_type": "stream",
     "text": [
      "\n",
      "Operador lógico AND: [False  True  True]\n"
     ]
    }
   ],
   "source": [
    "# Aplica un operador lógico (AND) elemento a elemento\n",
    "and_logico = np.logical_and(array9 > 15, array10 > 15)\n",
    "print(\"\\nOperador lógico AND:\", and_logico)"
   ]
  },
  {
   "cell_type": "code",
   "execution_count": null,
   "id": "f3a3cb54-28a5-4af3-b979-8e1c87b8a709",
   "metadata": {},
   "outputs": [],
   "source": []
  }
 ],
 "metadata": {
  "kernelspec": {
   "display_name": "Python 3 (ipykernel)",
   "language": "python",
   "name": "python3"
  },
  "language_info": {
   "codemirror_mode": {
    "name": "ipython",
    "version": 3
   },
   "file_extension": ".py",
   "mimetype": "text/x-python",
   "name": "python",
   "nbconvert_exporter": "python",
   "pygments_lexer": "ipython3",
   "version": "3.9.19"
  }
 },
 "nbformat": 4,
 "nbformat_minor": 5
}

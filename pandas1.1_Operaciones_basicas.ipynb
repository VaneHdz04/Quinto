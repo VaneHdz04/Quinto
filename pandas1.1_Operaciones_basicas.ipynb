{
 "cells": [
  {
   "cell_type": "markdown",
   "id": "dd69f58f-68e2-4593-b7c1-2f0e14ce2946",
   "metadata": {},
   "source": [
    "# Numpy"
   ]
  },
  {
   "cell_type": "markdown",
   "id": "6017dbec-2bcc-476a-9438-65307eccb8c9",
   "metadata": {},
   "source": [
    "## 1. Crear arrays y operaciones básicas"
   ]
  },
  {
   "cell_type": "code",
   "execution_count": 1,
   "id": "a499ad5e-152d-4959-9d45-9e23f23d3c8a",
   "metadata": {},
   "outputs": [],
   "source": [
    "import numpy as np"
   ]
  },
  {
   "cell_type": "code",
   "execution_count": 2,
   "id": "2a03b0fe-6628-4e76-aaa3-f0011084cd33",
   "metadata": {},
   "outputs": [
    {
     "name": "stdout",
     "output_type": "stream",
     "text": [
      "Array de 0 a 9: [0 1 2 3 4 5 6 7 8 9]\n"
     ]
    }
   ],
   "source": [
    "# Crea un array de 1D con números del 0 al 9\n",
    "array1 = np.arange(10)\n",
    "print(\"Array de 0 a 9:\", array1)\n"
   ]
  },
  {
   "cell_type": "code",
   "execution_count": 3,
   "id": "6b7e5c8c-d576-4e9e-b01a-d26eef25ab47",
   "metadata": {},
   "outputs": [
    {
     "name": "stdout",
     "output_type": "stream",
     "text": [
      "\n",
      "Array 3x3 aleatorio:\n",
      " [[0.61544051 0.2205225  0.12592603]\n",
      " [0.17093532 0.16140241 0.99585496]\n",
      " [0.6106125  0.71978001 0.5340893 ]]\n"
     ]
    }
   ],
   "source": [
    "# Crea un array de 3x3 con números aleatorios\n",
    "array2 = np.random.random((3, 3))\n",
    "print(\"\\nArray 3x3 aleatorio:\\n\", array2)"
   ]
  },
  {
   "cell_type": "code",
   "execution_count": 4,
   "id": "4f63bddf-1bd4-4199-81ea-3ccb15bcf179",
   "metadata": {},
   "outputs": [
    {
     "name": "stdout",
     "output_type": "stream",
     "text": [
      "\n",
      "Array sumado en 5: [ 5  6  7  8  9 10 11 12 13 14]\n"
     ]
    }
   ],
   "source": [
    "# Suma 5 a todos los elementos del array\n",
    "array_sumado = array1 + 5\n",
    "print(\"\\nArray sumado en 5:\", array_sumado)"
   ]
  },
  {
   "cell_type": "markdown",
   "id": "049f8958-327d-425c-9318-771e0bd20cb3",
   "metadata": {},
   "source": [
    "### 1.1 Crear un array con valores específicos"
   ]
  },
  {
   "cell_type": "code",
   "execution_count": 5,
   "id": "ea271f16-3f4e-457e-8200-ba0467f1ee0f",
   "metadata": {},
   "outputs": [
    {
     "name": "stdout",
     "output_type": "stream",
     "text": [
      "Array de 10 a 49: [10 11 12 13 14 15 16 17 18 19 20 21 22 23 24 25 26 27 28 29 30 31 32 33\n",
      " 34 35 36 37 38 39 40 41 42 43 44 45 46 47 48 49]\n"
     ]
    }
   ],
   "source": [
    "# Crea un array de números enteros del 10 al 49\n",
    "array1 = np.arange(10, 50)\n",
    "print(\"Array de 10 a 49:\", array1)"
   ]
  },
  {
   "cell_type": "code",
   "execution_count": 6,
   "id": "cd892204-f257-4f16-b49f-93a58ea761ff",
   "metadata": {},
   "outputs": [
    {
     "name": "stdout",
     "output_type": "stream",
     "text": [
      "\n",
      "Array invertido: [49 48 47 46 45 44 43 42 41 40 39 38 37 36 35 34 33 32 31 30 29 28 27 26\n",
      " 25 24 23 22 21 20 19 18 17 16 15 14 13 12 11 10]\n"
     ]
    }
   ],
   "source": [
    "# Invierte el array (de modo que los elementos estén en orden inverso)\n",
    "array_invertido = array1[::-1]\n",
    "print(\"\\nArray invertido:\", array_invertido)\n"
   ]
  },
  {
   "cell_type": "markdown",
   "id": "32d3b686-b6dd-4d9f-a3b4-9dfb3f481637",
   "metadata": {},
   "source": [
    "### 1.2. Array de valores flotantes"
   ]
  },
  {
   "cell_type": "code",
   "execution_count": 7,
   "id": "08dd9141-3587-43f3-b4b7-a357af421988",
   "metadata": {},
   "outputs": [
    {
     "name": "stdout",
     "output_type": "stream",
     "text": [
      "Array 5x5 con valores aleatorios entre 0 y 1:\n",
      " [[0.45787123 0.42665851 0.64636096 0.24591299 0.62588451]\n",
      " [0.8112024  0.4659202  0.82705473 0.76985171 0.8858964 ]\n",
      " [0.9995194  0.80133125 0.44646851 0.67148    0.89006682]\n",
      " [0.37705534 0.59069848 0.72466262 0.1241144  0.55595635]\n",
      " [0.21522318 0.18816784 0.12209105 0.99104417 0.76430648]]\n"
     ]
    }
   ],
   "source": [
    "# Crea un array de 5x5 con valores aleatorios entre 0 y 1\n",
    "array2 = np.random.rand(5, 5)\n",
    "print(\"Array 5x5 con valores aleatorios entre 0 y 1:\\n\", array2)"
   ]
  },
  {
   "cell_type": "code",
   "execution_count": 8,
   "id": "9e3363ea-a915-4ac2-a5c6-d5c7581a8623",
   "metadata": {},
   "outputs": [
    {
     "name": "stdout",
     "output_type": "stream",
     "text": [
      "\n",
      "Array multiplicado por 10:\n",
      " [[4.57871233 4.26658507 6.46360964 2.4591299  6.25884508]\n",
      " [8.11202402 4.65920197 8.27054735 7.69851708 8.858964  ]\n",
      " [9.99519405 8.01331247 4.46468512 6.71480004 8.90066817]\n",
      " [3.77055337 5.90698485 7.24662621 1.24114404 5.55956348]\n",
      " [2.15223178 1.88167844 1.22091046 9.91044165 7.64306483]]\n"
     ]
    }
   ],
   "source": [
    "# Multiplica el array por 10\n",
    "array_multiplicado = array2 * 10\n",
    "print(\"\\nArray multiplicado por 10:\\n\", array_multiplicado)"
   ]
  },
  {
   "cell_type": "markdown",
   "id": "57e5d7b3-bed2-4346-8d01-3ac8e3f191d4",
   "metadata": {},
   "source": [
    "### 1.3. Array de un solo valor"
   ]
  },
  {
   "cell_type": "code",
   "execution_count": 9,
   "id": "528e8ba3-ef22-4557-bfe1-5edc0b8e96d3",
   "metadata": {},
   "outputs": [
    {
     "name": "stdout",
     "output_type": "stream",
     "text": [
      "Array 6x6 lleno de 7s:\n",
      " [[7 7 7 7 7 7]\n",
      " [7 7 7 7 7 7]\n",
      " [7 7 7 7 7 7]\n",
      " [7 7 7 7 7 7]\n",
      " [7 7 7 7 7 7]\n",
      " [7 7 7 7 7 7]]\n"
     ]
    }
   ],
   "source": [
    "# Crea un array de 6x6 con todos los valores iguales a 7\n",
    "array3 = np.full((6, 6), 7)\n",
    "print(\"Array 6x6 lleno de 7s:\\n\", array3)"
   ]
  },
  {
   "cell_type": "code",
   "execution_count": 10,
   "id": "68b7087a-d0ba-448b-beec-80b49f346bf7",
   "metadata": {},
   "outputs": [
    {
     "name": "stdout",
     "output_type": "stream",
     "text": [
      "\n",
      "Array elevado al cuadrado:\n",
      " [[49 49 49 49 49 49]\n",
      " [49 49 49 49 49 49]\n",
      " [49 49 49 49 49 49]\n",
      " [49 49 49 49 49 49]\n",
      " [49 49 49 49 49 49]\n",
      " [49 49 49 49 49 49]]\n"
     ]
    }
   ],
   "source": [
    "# Eleva cada valor del array al cuadrado\n",
    "array_cuadrado = np.power(array3, 2)\n",
    "print(\"\\nArray elevado al cuadrado:\\n\", array_cuadrado)"
   ]
  },
  {
   "cell_type": "markdown",
   "id": "fc2f0bb6-c523-43fd-b8d9-bca50ecb7c4e",
   "metadata": {},
   "source": [
    "### 1.4. Crear un array identidad"
   ]
  },
  {
   "cell_type": "code",
   "execution_count": 11,
   "id": "bc693b26-0f5a-46e1-86fb-4a8387daeb6d",
   "metadata": {},
   "outputs": [
    {
     "name": "stdout",
     "output_type": "stream",
     "text": [
      "Matriz identidad 4x4:\n",
      " [[1. 0. 0. 0.]\n",
      " [0. 1. 0. 0.]\n",
      " [0. 0. 1. 0.]\n",
      " [0. 0. 0. 1.]]\n"
     ]
    }
   ],
   "source": [
    "# Crea una matriz identidad de 4x4\n",
    "matriz_identidad = np.eye(4)\n",
    "print(\"Matriz identidad 4x4:\\n\", matriz_identidad)"
   ]
  },
  {
   "cell_type": "code",
   "execution_count": 12,
   "id": "1b0d0b27-159f-4de9-ab26-40f47cbda1de",
   "metadata": {},
   "outputs": [
    {
     "name": "stdout",
     "output_type": "stream",
     "text": [
      "\n",
      "Matriz identidad multiplicada por 3:\n",
      " [[3. 0. 0. 0.]\n",
      " [0. 3. 0. 0.]\n",
      " [0. 0. 3. 0.]\n",
      " [0. 0. 0. 3.]]\n"
     ]
    }
   ],
   "source": [
    "# Multiplica la matriz identidad por 3\n",
    "matriz_identidad_mult = matriz_identidad * 3\n",
    "print(\"\\nMatriz identidad multiplicada por 3:\\n\", matriz_identidad_mult)"
   ]
  },
  {
   "cell_type": "markdown",
   "id": "04a319a6-fe1c-410f-a66a-14ba15ec2fed",
   "metadata": {},
   "source": [
    "### 1.5. Crear arrays con funciones matemáticas"
   ]
  },
  {
   "cell_type": "code",
   "execution_count": 13,
   "id": "c53d61e5-f043-4011-aa5b-2ad1de6181aa",
   "metadata": {},
   "outputs": [
    {
     "name": "stdout",
     "output_type": "stream",
     "text": [
      "Array con 20 valores entre 0 y 2π:\n",
      " [0.         0.33069396 0.66138793 0.99208189 1.32277585 1.65346982\n",
      " 1.98416378 2.31485774 2.64555171 2.97624567 3.30693964 3.6376336\n",
      " 3.96832756 4.29902153 4.62971549 4.96040945 5.29110342 5.62179738\n",
      " 5.95249134 6.28318531]\n"
     ]
    }
   ],
   "source": [
    "# Crea un array con 20 valores entre 0 y 2π\n",
    "array_angular = np.linspace(0, 2 * np.pi, 20)\n",
    "print(\"Array con 20 valores entre 0 y 2π:\\n\", array_angular)"
   ]
  },
  {
   "cell_type": "code",
   "execution_count": 15,
   "id": "86e82ea4-420f-4f07-a708-c84c3aafbe2f",
   "metadata": {},
   "outputs": [
    {
     "name": "stdout",
     "output_type": "stream",
     "text": [
      "\n",
      "Seno de cada valor:\n",
      " [ 0.00000000e+00  3.24699469e-01  6.14212713e-01  8.37166478e-01\n",
      "  9.69400266e-01  9.96584493e-01  9.15773327e-01  7.35723911e-01\n",
      "  4.75947393e-01  1.64594590e-01 -1.64594590e-01 -4.75947393e-01\n",
      " -7.35723911e-01 -9.15773327e-01 -9.96584493e-01 -9.69400266e-01\n",
      " -8.37166478e-01 -6.14212713e-01 -3.24699469e-01 -2.44929360e-16]\n"
     ]
    }
   ],
   "source": [
    "# Calcula el seno de cada valor\n",
    "array_seno = np.sin(array_angular)\n",
    "print(\"\\nSeno de cada valor:\\n\", array_seno)"
   ]
  }
 ],
 "metadata": {
  "kernelspec": {
   "display_name": "Python 3 (ipykernel)",
   "language": "python",
   "name": "python3"
  },
  "language_info": {
   "codemirror_mode": {
    "name": "ipython",
    "version": 3
   },
   "file_extension": ".py",
   "mimetype": "text/x-python",
   "name": "python",
   "nbconvert_exporter": "python",
   "pygments_lexer": "ipython3",
   "version": "3.9.19"
  }
 },
 "nbformat": 4,
 "nbformat_minor": 5
}

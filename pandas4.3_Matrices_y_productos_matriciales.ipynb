{
 "cells": [
  {
   "cell_type": "markdown",
   "id": "a8e50922-14f5-451c-a7e1-41958af3b49e",
   "metadata": {},
   "source": [
    "# Numpy"
   ]
  },
  {
   "cell_type": "code",
   "execution_count": 1,
   "id": "3fba123e-e3ca-4cd5-849b-fbf008111423",
   "metadata": {},
   "outputs": [],
   "source": [
    "import numpy as np"
   ]
  },
  {
   "cell_type": "markdown",
   "id": "ba0b19d3-097c-4b53-84b5-fcc0884b6551",
   "metadata": {},
   "source": [
    "## 4. Matrices y productos matriciales"
   ]
  },
  {
   "cell_type": "markdown",
   "id": "ea6684b4-7bc3-40d6-9531-478686a33358",
   "metadata": {},
   "source": [
    "### 4.11. Descomposición de matrices: SVD (Singular Value Decomposition)"
   ]
  },
  {
   "cell_type": "code",
   "execution_count": 2,
   "id": "f66bf3d0-eefb-491a-b5c6-6e34af8c0d87",
   "metadata": {},
   "outputs": [],
   "source": [
    "# Crea una matriz 2x2\n",
    "matriz12 = np.array([[3, 1], [1, 3]])"
   ]
  },
  {
   "cell_type": "code",
   "execution_count": 3,
   "id": "993cf3fa-bdf9-4087-9c07-cd6ea79d4144",
   "metadata": {},
   "outputs": [
    {
     "name": "stdout",
     "output_type": "stream",
     "text": [
      "Matriz U:\n",
      " [[-0.70710678 -0.70710678]\n",
      " [-0.70710678  0.70710678]]\n",
      "\n",
      "Valores singulares (S): [4. 2.]\n",
      "\n",
      "Matriz V:\n",
      " [[-0.70710678 -0.70710678]\n",
      " [-0.70710678  0.70710678]]\n"
     ]
    }
   ],
   "source": [
    "# Descomposición en valores singulares\n",
    "U, S, V = np.linalg.svd(matriz12)\n",
    "\n",
    "print(\"Matriz U:\\n\", U)\n",
    "print(\"\\nValores singulares (S):\", S)\n",
    "print(\"\\nMatriz V:\\n\", V)\n"
   ]
  },
  {
   "cell_type": "markdown",
   "id": "88e6eb05-e31a-4ae2-9ecd-f11cc4cac4a3",
   "metadata": {},
   "source": [
    "### 4.12. Resolución de sistemas de ecuaciones lineales"
   ]
  },
  {
   "cell_type": "code",
   "execution_count": 4,
   "id": "7705c762-cb62-4d86-92de-8bd299b6199d",
   "metadata": {},
   "outputs": [],
   "source": [
    "# Sistema de ecuaciones: Ax = b\n",
    "# A es la matriz de coeficientes y b es el vector de resultados\n",
    "A = np.array([[3, 1], [1, 2]])\n",
    "b = np.array([9, 8])"
   ]
  },
  {
   "cell_type": "code",
   "execution_count": 5,
   "id": "30c82adf-a4d3-4329-85d3-56294c9d9738",
   "metadata": {},
   "outputs": [
    {
     "name": "stdout",
     "output_type": "stream",
     "text": [
      "Solución del sistema de ecuaciones: [2. 3.]\n"
     ]
    }
   ],
   "source": [
    "# Soluciona el sistema Ax = b\n",
    "x = np.linalg.solve(A, b)\n",
    "print(\"Solución del sistema de ecuaciones:\", x)"
   ]
  },
  {
   "cell_type": "markdown",
   "id": "fe43d8f7-556b-43a0-b7c3-d301c45ceb6c",
   "metadata": {},
   "source": [
    "### 4.13. Matrices diagonales"
   ]
  },
  {
   "cell_type": "code",
   "execution_count": 9,
   "id": "e97c7dab-f42a-417d-a29b-dfd69555ebfb",
   "metadata": {},
   "outputs": [
    {
     "name": "stdout",
     "output_type": "stream",
     "text": [
      "Suma de las dos matrices:\n",
      " [[10 10 10]\n",
      " [10 10 10]\n",
      " [10 10 10]]\n"
     ]
    }
   ],
   "source": [
    "# Crea dos matrices de 3x3\n",
    "matriz10 = np.array([[1, 2, 3], [4, 5, 6], [7, 8, 9]])\n",
    "matriz11 = np.array([[9, 8, 7], [6, 5, 4], [3, 2, 1]])\n",
    "\n",
    "# Suma de las matrices\n",
    "suma_matrices = np.add(matriz10, matriz11)\n",
    "print(\"Suma de las dos matrices:\\n\", suma_matrices)\n"
   ]
  },
  {
   "cell_type": "code",
   "execution_count": 11,
   "id": "85fecbc4-ca23-4379-a334-274bbb6b33cc",
   "metadata": {},
   "outputs": [
    {
     "name": "stdout",
     "output_type": "stream",
     "text": [
      "Matriz diagonal:\n",
      " [[1 0 0]\n",
      " [0 2 0]\n",
      " [0 0 3]]\n"
     ]
    }
   ],
   "source": [
    "# Crea una matriz diagonal con elementos 1, 2 y 3\n",
    "matriz_diagonal = np.diag([1, 2, 3])\n",
    "print(\"Matriz diagonal:\\n\", matriz_diagonal)\n"
   ]
  },
  {
   "cell_type": "code",
   "execution_count": 12,
   "id": "583999d5-b4f2-4855-b4f5-bbd2396aa782",
   "metadata": {},
   "outputs": [
    {
     "name": "stdout",
     "output_type": "stream",
     "text": [
      "\n",
      "Diagonal extraída de una matriz 3x3: [1 5 9]\n"
     ]
    }
   ],
   "source": [
    "# Extrae la diagonal de una matriz 3x3\n",
    "diagonal_extraida = np.diag(matriz10)\n",
    "print(\"\\nDiagonal extraída de una matriz 3x3:\", diagonal_extraida)"
   ]
  },
  {
   "cell_type": "markdown",
   "id": "ef0112ec-4123-4821-818c-774c1389b15a",
   "metadata": {},
   "source": [
    "### 4.14. Matrices de identidad y matrices nulas"
   ]
  },
  {
   "cell_type": "code",
   "execution_count": 13,
   "id": "08342203-6fe8-4373-880d-1e19eae19de5",
   "metadata": {},
   "outputs": [
    {
     "name": "stdout",
     "output_type": "stream",
     "text": [
      "Matriz identidad 4x4:\n",
      " [[1. 0. 0. 0.]\n",
      " [0. 1. 0. 0.]\n",
      " [0. 0. 1. 0.]\n",
      " [0. 0. 0. 1.]]\n"
     ]
    }
   ],
   "source": [
    "# Crea una matriz identidad de 4x4\n",
    "matriz_identidad = np.eye(4)\n",
    "print(\"Matriz identidad 4x4:\\n\", matriz_identidad)"
   ]
  },
  {
   "cell_type": "code",
   "execution_count": 14,
   "id": "42e7a07e-81f1-4724-9356-b3f82476237d",
   "metadata": {},
   "outputs": [
    {
     "name": "stdout",
     "output_type": "stream",
     "text": [
      "\n",
      "Matriz nula 3x3:\n",
      " [[0. 0. 0.]\n",
      " [0. 0. 0.]\n",
      " [0. 0. 0.]]\n"
     ]
    }
   ],
   "source": [
    "# Crea una matriz nula de 3x3\n",
    "matriz_nula = np.zeros((3, 3))\n",
    "print(\"\\nMatriz nula 3x3:\\n\", matriz_nula)"
   ]
  },
  {
   "cell_type": "markdown",
   "id": "05381220-d4c5-44b8-b05a-4be2f4808414",
   "metadata": {},
   "source": [
    "### 4.15. Producto Kronecker entre matrices"
   ]
  },
  {
   "cell_type": "code",
   "execution_count": 15,
   "id": "e3b714c0-6b11-44f3-96fb-6e08d71e197a",
   "metadata": {},
   "outputs": [],
   "source": [
    "# Crea dos matrices pequeñas\n",
    "matriz13 = np.array([[1, 2], [3, 4]])\n",
    "matriz14 = np.array([[0, 5], [6, 7]])"
   ]
  },
  {
   "cell_type": "code",
   "execution_count": 16,
   "id": "f10f0d8f-2a41-4ada-b5a8-62941f7011bb",
   "metadata": {},
   "outputs": [
    {
     "name": "stdout",
     "output_type": "stream",
     "text": [
      "Producto Kronecker:\n",
      " [[ 0  5  0 10]\n",
      " [ 6  7 12 14]\n",
      " [ 0 15  0 20]\n",
      " [18 21 24 28]]\n"
     ]
    }
   ],
   "source": [
    "# Producto Kronecker de las matrices\n",
    "producto_kronecker = np.kron(matriz13, matriz14)\n",
    "print(\"Producto Kronecker:\\n\", producto_kronecker)"
   ]
  },
  {
   "cell_type": "markdown",
   "id": "f8a3d495-e365-4a4b-ade5-6538c541e410",
   "metadata": {},
   "source": [
    "### 4.16. Operaciones con bloques de matrices"
   ]
  },
  {
   "cell_type": "code",
   "execution_count": 18,
   "id": "7ca51e8f-40c6-4e3d-b1e8-c413ae770738",
   "metadata": {},
   "outputs": [],
   "source": [
    "# Crea una matriz 4x4\n",
    "matriz15 = np.array([[1, 2, 3, 4], [5, 6, 7, 8], [9, 10, 11, 12], [13, 14, 15, 16]])"
   ]
  },
  {
   "cell_type": "code",
   "execution_count": 19,
   "id": "61b4f86a-b19c-40ba-b700-4ffed1ebd0c9",
   "metadata": {},
   "outputs": [
    {
     "name": "stdout",
     "output_type": "stream",
     "text": [
      "Bloque 2x2 extraído:\n",
      " [[1 2]\n",
      " [5 6]]\n"
     ]
    }
   ],
   "source": [
    "# Extrae un bloque 2x2 desde la esquina superior izquierda\n",
    "bloque = matriz15[0:2, 0:2]\n",
    "print(\"Bloque 2x2 extraído:\\n\", bloque)"
   ]
  },
  {
   "cell_type": "code",
   "execution_count": 20,
   "id": "9b3f8902-c127-458f-91a2-237a520952dc",
   "metadata": {},
   "outputs": [
    {
     "name": "stdout",
     "output_type": "stream",
     "text": [
      "\n",
      "Matriz con bloque reemplazado:\n",
      " [[ 1  2  3  4]\n",
      " [ 5  6  7  8]\n",
      " [ 9 10 99 99]\n",
      " [13 14 99 99]]\n"
     ]
    }
   ],
   "source": [
    "# Reemplaza un bloque 2x2 en la esquina inferior derecha\n",
    "matriz15[2:4, 2:4] = np.array([[99, 99], [99, 99]])\n",
    "print(\"\\nMatriz con bloque reemplazado:\\n\", matriz15)"
   ]
  },
  {
   "cell_type": "code",
   "execution_count": null,
   "id": "a0620204-14e2-4262-972c-07d3f5c1011a",
   "metadata": {},
   "outputs": [],
   "source": []
  }
 ],
 "metadata": {
  "kernelspec": {
   "display_name": "Python 3 (ipykernel)",
   "language": "python",
   "name": "python3"
  },
  "language_info": {
   "codemirror_mode": {
    "name": "ipython",
    "version": 3
   },
   "file_extension": ".py",
   "mimetype": "text/x-python",
   "name": "python",
   "nbconvert_exporter": "python",
   "pygments_lexer": "ipython3",
   "version": "3.9.19"
  }
 },
 "nbformat": 4,
 "nbformat_minor": 5
}

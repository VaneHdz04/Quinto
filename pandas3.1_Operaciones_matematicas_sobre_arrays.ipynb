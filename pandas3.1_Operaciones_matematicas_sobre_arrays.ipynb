{
 "cells": [
  {
   "cell_type": "markdown",
   "id": "bc79e6f8-abd3-4cd0-be0b-16e66e8cd8d5",
   "metadata": {},
   "source": [
    "# Numpy"
   ]
  },
  {
   "cell_type": "code",
   "execution_count": 1,
   "id": "9bd343f1-a974-4972-a889-69bfbbb05a41",
   "metadata": {},
   "outputs": [],
   "source": [
    "import numpy as np"
   ]
  },
  {
   "cell_type": "markdown",
   "id": "adfdef46-0a84-4260-8481-1d6b8b11148e",
   "metadata": {},
   "source": [
    "## 3. Operaciones matemáticas sobre arrays"
   ]
  },
  {
   "cell_type": "markdown",
   "id": "cff2cf79-7a23-441d-8b3a-7082a98259ef",
   "metadata": {},
   "source": [
    "### 3.1. Suma y resta de arrays"
   ]
  },
  {
   "cell_type": "code",
   "execution_count": 2,
   "id": "486b3390-836e-4392-9656-9a993163b1f9",
   "metadata": {},
   "outputs": [],
   "source": [
    "# Crea dos arrays de 2x3 con números del 1 al 6 y del 7 al 12\n",
    "array1 = np.array([[1, 2, 3], [4, 5, 6]])\n",
    "array2 = np.array([[7, 8, 9], [10, 11, 12]])"
   ]
  },
  {
   "cell_type": "code",
   "execution_count": 3,
   "id": "3d8564e8-8111-4939-b2fc-e3d2cfa09cbe",
   "metadata": {},
   "outputs": [
    {
     "name": "stdout",
     "output_type": "stream",
     "text": [
      "Suma de los arrays:\n",
      " [[ 8 10 12]\n",
      " [14 16 18]]\n"
     ]
    }
   ],
   "source": [
    "# Suma de los dos arrays\n",
    "suma = np.add(array1, array2)\n",
    "print(\"Suma de los arrays:\\n\", suma)"
   ]
  },
  {
   "cell_type": "code",
   "execution_count": 4,
   "id": "f84168a3-6a8c-4c9f-aebc-44badbe53147",
   "metadata": {},
   "outputs": [
    {
     "name": "stdout",
     "output_type": "stream",
     "text": [
      "\n",
      "Resta de los arrays:\n",
      " [[-6 -6 -6]\n",
      " [-6 -6 -6]]\n"
     ]
    }
   ],
   "source": [
    "# Resta de los dos arrays\n",
    "resta = np.subtract(array1, array2)\n",
    "print(\"\\nResta de los arrays:\\n\", resta)"
   ]
  },
  {
   "cell_type": "markdown",
   "id": "f6415a8f-3eda-4cd8-80fb-9d98dde6a8bc",
   "metadata": {},
   "source": [
    "### 3.2. Multiplicación y división de arrays"
   ]
  },
  {
   "cell_type": "code",
   "execution_count": 5,
   "id": "4a8df0cf-7427-40c8-b350-e4f314c28dc5",
   "metadata": {},
   "outputs": [
    {
     "name": "stdout",
     "output_type": "stream",
     "text": [
      "\n",
      "Multiplicación elemento a elemento:\n",
      " [[ 7 16 27]\n",
      " [40 55 72]]\n"
     ]
    }
   ],
   "source": [
    "# Multiplicación elemento a elemento\n",
    "multiplicacion = np.multiply(array1, array2)\n",
    "print(\"\\nMultiplicación elemento a elemento:\\n\", multiplicacion)"
   ]
  },
  {
   "cell_type": "code",
   "execution_count": 6,
   "id": "f4a4f611-dbba-4962-8823-2679713df6b9",
   "metadata": {},
   "outputs": [
    {
     "name": "stdout",
     "output_type": "stream",
     "text": [
      "\n",
      "División elemento a elemento:\n",
      " [[7.  4.  3. ]\n",
      " [2.5 2.2 2. ]]\n"
     ]
    }
   ],
   "source": [
    "# División elemento a elemento\n",
    "division = np.divide(array2, array1)\n",
    "print(\"\\nDivisión elemento a elemento:\\n\", division)\n"
   ]
  },
  {
   "cell_type": "markdown",
   "id": "75526fa3-a910-4e22-901d-fadd65616307",
   "metadata": {},
   "source": [
    "### 3.3. Producto de matrices"
   ]
  },
  {
   "cell_type": "code",
   "execution_count": 7,
   "id": "123e1ba5-5b23-4fdc-a9b2-7e39349bfe99",
   "metadata": {},
   "outputs": [],
   "source": [
    "# Crea dos matrices 3x3\n",
    "matriz1 = np.array([[1, 2, 3], [4, 5, 6], [7, 8, 9]])\n",
    "matriz2 = np.array([[9, 8, 7], [6, 5, 4], [3, 2, 1]])\n"
   ]
  },
  {
   "cell_type": "code",
   "execution_count": 8,
   "id": "ed7d2d9a-492a-458f-987e-3dfd8255c2b7",
   "metadata": {},
   "outputs": [
    {
     "name": "stdout",
     "output_type": "stream",
     "text": [
      "Producto matricial de 3x3:\n",
      " [[ 30  24  18]\n",
      " [ 84  69  54]\n",
      " [138 114  90]]\n"
     ]
    }
   ],
   "source": [
    "# Producto matricial\n",
    "producto_matricial = np.dot(matriz1, matriz2)\n",
    "print(\"Producto matricial de 3x3:\\n\", producto_matricial)"
   ]
  },
  {
   "cell_type": "code",
   "execution_count": 9,
   "id": "90f0d423-ed47-4d08-8dd6-f7da68dad27f",
   "metadata": {},
   "outputs": [
    {
     "name": "stdout",
     "output_type": "stream",
     "text": [
      "\n",
      "Producto matricial usando @:\n",
      " [[ 30  24  18]\n",
      " [ 84  69  54]\n",
      " [138 114  90]]\n"
     ]
    }
   ],
   "source": [
    "# Producto matricial usando @ (alternativa)\n",
    "producto_matricial2 = matriz1 @ matriz2\n",
    "print(\"\\nProducto matricial usando @:\\n\", producto_matricial2)"
   ]
  },
  {
   "cell_type": "markdown",
   "id": "5c7406fa-f8ff-4479-baca-5aa8401299e1",
   "metadata": {},
   "source": [
    "### 3.4. Potencia y raíz cuadrada de arrays"
   ]
  },
  {
   "cell_type": "code",
   "execution_count": 10,
   "id": "0ea5e5c1-03d7-452e-96d1-7bfe61c4d574",
   "metadata": {},
   "outputs": [],
   "source": [
    "# Crea un array de 1x4 con números del 1 al 4\n",
    "array3 = np.array([1, 2, 3, 4])"
   ]
  },
  {
   "cell_type": "code",
   "execution_count": 11,
   "id": "642cfdb3-4974-435c-b027-a8ab5255d715",
   "metadata": {},
   "outputs": [
    {
     "name": "stdout",
     "output_type": "stream",
     "text": [
      "Array elevado al cuadrado: [ 1  4  9 16]\n"
     ]
    }
   ],
   "source": [
    "# Elevar al cuadrado cada elemento del array\n",
    "cuadrado = np.power(array3, 2)\n",
    "print(\"Array elevado al cuadrado:\", cuadrado)"
   ]
  },
  {
   "cell_type": "code",
   "execution_count": 12,
   "id": "344df18c-8f8d-4bea-81bf-3ac3ee046a7d",
   "metadata": {},
   "outputs": [
    {
     "name": "stdout",
     "output_type": "stream",
     "text": [
      "\n",
      "Raíz cuadrada del array: [1.         1.41421356 1.73205081 2.        ]\n"
     ]
    }
   ],
   "source": [
    "# Calcula la raíz cuadrada de cada elemento del array\n",
    "raiz_cuadrada = np.sqrt(array3)\n",
    "print(\"\\nRaíz cuadrada del array:\", raiz_cuadrada)"
   ]
  },
  {
   "cell_type": "markdown",
   "id": "7f01e945-afae-4d0e-8f7d-d2a1954d4d9a",
   "metadata": {},
   "source": [
    "### 3.5. Operaciones trigonométricas"
   ]
  },
  {
   "cell_type": "code",
   "execution_count": 13,
   "id": "4cb171bd-e648-4ce3-a2c0-925d70190d4f",
   "metadata": {},
   "outputs": [
    {
     "name": "stdout",
     "output_type": "stream",
     "text": [
      "Array con valores entre 0 y π: [0.         1.04719755 2.0943951  3.14159265]\n"
     ]
    }
   ],
   "source": [
    "# Crea un array de 4 elementos entre 0 y π\n",
    "array4 = np.linspace(0, np.pi, 4)\n",
    "print(\"Array con valores entre 0 y π:\", array4)"
   ]
  },
  {
   "cell_type": "code",
   "execution_count": 14,
   "id": "d38117af-01b7-4ade-9735-4c2a0bd542b4",
   "metadata": {},
   "outputs": [
    {
     "name": "stdout",
     "output_type": "stream",
     "text": [
      "\n",
      "Seno de los valores en el array: [0.00000000e+00 8.66025404e-01 8.66025404e-01 1.22464680e-16]\n"
     ]
    }
   ],
   "source": [
    "# Calcula el seno de cada elemento\n",
    "seno = np.sin(array4)\n",
    "print(\"\\nSeno de los valores en el array:\", seno)"
   ]
  },
  {
   "cell_type": "code",
   "execution_count": 15,
   "id": "6d37e4ba-c191-4b1e-be38-ccd04829b9ac",
   "metadata": {},
   "outputs": [
    {
     "name": "stdout",
     "output_type": "stream",
     "text": [
      "\n",
      "Coseno de los valores en el array: [ 1.   0.5 -0.5 -1. ]\n"
     ]
    }
   ],
   "source": [
    "# Calcula el coseno de cada elemento\n",
    "coseno = np.cos(array4)\n",
    "print(\"\\nCoseno de los valores en el array:\", coseno)"
   ]
  },
  {
   "cell_type": "code",
   "execution_count": null,
   "id": "575400b7-5b27-4460-a7dd-ef25d52c499f",
   "metadata": {},
   "outputs": [],
   "source": []
  }
 ],
 "metadata": {
  "kernelspec": {
   "display_name": "Python 3 (ipykernel)",
   "language": "python",
   "name": "python3"
  },
  "language_info": {
   "codemirror_mode": {
    "name": "ipython",
    "version": 3
   },
   "file_extension": ".py",
   "mimetype": "text/x-python",
   "name": "python",
   "nbconvert_exporter": "python",
   "pygments_lexer": "ipython3",
   "version": "3.9.19"
  }
 },
 "nbformat": 4,
 "nbformat_minor": 5
}

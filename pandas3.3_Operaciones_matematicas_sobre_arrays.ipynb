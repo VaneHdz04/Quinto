{
 "cells": [
  {
   "cell_type": "markdown",
   "id": "bc79e6f8-abd3-4cd0-be0b-16e66e8cd8d5",
   "metadata": {},
   "source": [
    "# Numpy"
   ]
  },
  {
   "cell_type": "code",
   "execution_count": 1,
   "id": "9bd343f1-a974-4972-a889-69bfbbb05a41",
   "metadata": {},
   "outputs": [],
   "source": [
    "import numpy as np"
   ]
  },
  {
   "cell_type": "markdown",
   "id": "adfdef46-0a84-4260-8481-1d6b8b11148e",
   "metadata": {},
   "source": [
    "## 3. Operaciones matemáticas sobre arrays"
   ]
  },
  {
   "cell_type": "markdown",
   "id": "51a5b924-b277-4c35-9bfd-cc97f3232f36",
   "metadata": {},
   "source": [
    "### 3.11. Transposición de matrices"
   ]
  },
  {
   "cell_type": "code",
   "execution_count": 2,
   "id": "15623bbf-e92d-4fb5-a248-e9ba30063cdf",
   "metadata": {},
   "outputs": [],
   "source": [
    "# Crea una matriz 3x2\n",
    "matriz3 = np.array([[1, 2], [3, 4], [5, 6]])"
   ]
  },
  {
   "cell_type": "code",
   "execution_count": 3,
   "id": "cfc19090-9a84-4549-950b-c15e2aba31ea",
   "metadata": {},
   "outputs": [
    {
     "name": "stdout",
     "output_type": "stream",
     "text": [
      "Matriz transpuesta:\n",
      " [[1 3 5]\n",
      " [2 4 6]]\n"
     ]
    }
   ],
   "source": [
    "# Transpone la matriz\n",
    "transpuesta = np.transpose(matriz3)\n",
    "print(\"Matriz transpuesta:\\n\", transpuesta)"
   ]
  },
  {
   "cell_type": "markdown",
   "id": "84ccfdf0-b82b-4ec4-af1f-cb8ddc2e14e6",
   "metadata": {},
   "source": [
    "### 3.12. Normalización de arrays"
   ]
  },
  {
   "cell_type": "code",
   "execution_count": 4,
   "id": "f0649d9f-8db6-43e6-baee-cf6ca95af5f0",
   "metadata": {},
   "outputs": [
    {
     "name": "stdout",
     "output_type": "stream",
     "text": [
      "Array original: [35 76 78  8 96]\n"
     ]
    }
   ],
   "source": [
    "# Crea un array con 5 valores aleatorios entre 0 y 100\n",
    "array11 = np.random.randint(0, 101, 5)\n",
    "print(\"Array original:\", array11)"
   ]
  },
  {
   "cell_type": "code",
   "execution_count": 5,
   "id": "a6ca6722-f3aa-4c28-8547-20149919955a",
   "metadata": {},
   "outputs": [
    {
     "name": "stdout",
     "output_type": "stream",
     "text": [
      "\n",
      "Array normalizado: [0.30681818 0.77272727 0.79545455 0.         1.        ]\n"
     ]
    }
   ],
   "source": [
    "# Normaliza el array (escala los valores para que estén entre 0 y 1)\n",
    "array_normalizado = (array11 - np.min(array11)) / (np.max(array11) - np.min(array11))\n",
    "print(\"\\nArray normalizado:\", array_normalizado)"
   ]
  },
  {
   "cell_type": "markdown",
   "id": "1b716b44-d979-405e-a1eb-716c9d21f741",
   "metadata": {},
   "source": [
    "### 3.13. Operaciones con números complejos"
   ]
  },
  {
   "cell_type": "code",
   "execution_count": 6,
   "id": "23bc0c64-6ee5-41df-b11c-ff28bb087ee5",
   "metadata": {},
   "outputs": [],
   "source": [
    "# Crea un array de números complejos\n",
    "array_complejo = np.array([1+2j, 3+4j, 5+6j])"
   ]
  },
  {
   "cell_type": "code",
   "execution_count": 7,
   "id": "579b8d78-b64e-43be-9073-39211b7fd896",
   "metadata": {},
   "outputs": [
    {
     "name": "stdout",
     "output_type": "stream",
     "text": [
      "Valor absoluto de los números complejos: [2.23606798 5.         7.81024968]\n"
     ]
    }
   ],
   "source": [
    "# Calcula el valor absoluto de cada número complejo\n",
    "absoluto_complejo = np.abs(array_complejo)\n",
    "print(\"Valor absoluto de los números complejos:\", absoluto_complejo)"
   ]
  },
  {
   "cell_type": "code",
   "execution_count": 8,
   "id": "50f1e396-17a8-4d0e-a985-c2603a4807ba",
   "metadata": {},
   "outputs": [
    {
     "name": "stdout",
     "output_type": "stream",
     "text": [
      "\n",
      "Ángulo de fase de los números complejos: [1.10714872 0.92729522 0.87605805]\n"
     ]
    }
   ],
   "source": [
    "# Calcula el ángulo de fase de cada número complejo\n",
    "angulo_fase = np.angle(array_complejo)\n",
    "print(\"\\nÁngulo de fase de los números complejos:\", angulo_fase)"
   ]
  },
  {
   "cell_type": "markdown",
   "id": "d80e5bca-9994-4d68-a2a8-984c387187d9",
   "metadata": {},
   "source": [
    "### 3.14. Broadcasting: operaciones con arrays de diferente forma"
   ]
  },
  {
   "cell_type": "code",
   "execution_count": 9,
   "id": "cc61d4df-2f01-41d8-a8dc-a1cac5f9adbf",
   "metadata": {},
   "outputs": [],
   "source": [
    "# Crea un array 3x3 y un array 1x3\n",
    "array12 = np.array([[1, 2, 3], [4, 5, 6], [7, 8, 9]])\n",
    "array13 = np.array([10, 20, 30])"
   ]
  },
  {
   "cell_type": "code",
   "execution_count": 10,
   "id": "54043cfd-5929-4664-9d4c-74c7dc1efeeb",
   "metadata": {},
   "outputs": [
    {
     "name": "stdout",
     "output_type": "stream",
     "text": [
      "Resultado del broadcasting:\n",
      " [[11 22 33]\n",
      " [14 25 36]\n",
      " [17 28 39]]\n"
     ]
    }
   ],
   "source": [
    "# Suma el array de 1x3 a cada fila del array de 3x3 (broadcasting)\n",
    "resultado_broadcasting = array12 + array13\n",
    "print(\"Resultado del broadcasting:\\n\", resultado_broadcasting)"
   ]
  },
  {
   "cell_type": "markdown",
   "id": "035fe4ed-c55d-470b-a660-be3cecec59d2",
   "metadata": {},
   "source": [
    "### 3.15. Operaciones en el eje (axis) de arrays"
   ]
  },
  {
   "cell_type": "code",
   "execution_count": 11,
   "id": "670a1030-4d5b-4c0a-b5b7-d35c55b75468",
   "metadata": {},
   "outputs": [
    {
     "name": "stdout",
     "output_type": "stream",
     "text": [
      "Array 4x4:\n",
      " [[ 1  2  3  4]\n",
      " [ 5  6  7  8]\n",
      " [ 9 10 11 12]\n",
      " [13 14 15 16]]\n"
     ]
    }
   ],
   "source": [
    "# Crea un array 4x4 con números del 1 al 16\n",
    "array14 = np.arange(1, 17).reshape(4, 4)\n",
    "print(\"Array 4x4:\\n\", array14)"
   ]
  },
  {
   "cell_type": "code",
   "execution_count": 12,
   "id": "de80fb5b-8115-41b2-a6d2-2992e0c20cf0",
   "metadata": {},
   "outputs": [
    {
     "name": "stdout",
     "output_type": "stream",
     "text": [
      "\n",
      "Suma por fila: [10 26 42 58]\n"
     ]
    }
   ],
   "source": [
    "# Suma de los elementos por fila (axis=1)\n",
    "suma_filas = np.sum(array14, axis=1)\n",
    "print(\"\\nSuma por fila:\", suma_filas)"
   ]
  },
  {
   "cell_type": "code",
   "execution_count": 13,
   "id": "8bf64a0e-7abf-43e6-84dd-5095814b020a",
   "metadata": {},
   "outputs": [
    {
     "name": "stdout",
     "output_type": "stream",
     "text": [
      "\n",
      "Producto por columna: [ 585 1680 3465 6144]\n"
     ]
    }
   ],
   "source": [
    "# Producto de los elementos por columna (axis=0)\n",
    "producto_columnas = np.prod(array14, axis=0)\n",
    "print(\"\\nProducto por columna:\", producto_columnas)"
   ]
  },
  {
   "cell_type": "code",
   "execution_count": null,
   "id": "4c54aece-a8b5-4fd4-bb56-972994202199",
   "metadata": {},
   "outputs": [],
   "source": []
  }
 ],
 "metadata": {
  "kernelspec": {
   "display_name": "Python 3 (ipykernel)",
   "language": "python",
   "name": "python3"
  },
  "language_info": {
   "codemirror_mode": {
    "name": "ipython",
    "version": 3
   },
   "file_extension": ".py",
   "mimetype": "text/x-python",
   "name": "python",
   "nbconvert_exporter": "python",
   "pygments_lexer": "ipython3",
   "version": "3.9.19"
  }
 },
 "nbformat": 4,
 "nbformat_minor": 5
}

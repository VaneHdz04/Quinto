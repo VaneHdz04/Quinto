{
 "cells": [
  {
   "cell_type": "markdown",
   "id": "5a6e36c7-e982-4149-961a-bec9db46734d",
   "metadata": {},
   "source": [
    "# Numpy"
   ]
  },
  {
   "cell_type": "code",
   "execution_count": 1,
   "id": "4c39ea0c-62ab-49cb-b3af-cc5d0ed53d39",
   "metadata": {},
   "outputs": [],
   "source": [
    "import numpy as np"
   ]
  },
  {
   "cell_type": "markdown",
   "id": "36705413-f779-4e0f-ba09-a0df65982099",
   "metadata": {},
   "source": [
    "## 5. Operaciones de álgebra lineal"
   ]
  },
  {
   "cell_type": "markdown",
   "id": "f44f161c-49c0-4f66-ba1f-e3042353a7cb",
   "metadata": {},
   "source": [
    "### 5.11. Exponencial de una matriz"
   ]
  },
  {
   "cell_type": "code",
   "execution_count": 3,
   "id": "8c4a2139-0383-4603-933f-73c6c6eabad1",
   "metadata": {},
   "outputs": [],
   "source": [
    "from scipy.linalg import expm"
   ]
  },
  {
   "cell_type": "code",
   "execution_count": 4,
   "id": "713057d2-8528-4542-a751-3ce651598498",
   "metadata": {},
   "outputs": [],
   "source": [
    "# Define una matriz 2x2\n",
    "matriz6 = np.array([[0, 1], [-1, 0]])"
   ]
  },
  {
   "cell_type": "code",
   "execution_count": 5,
   "id": "852ca7bf-66fd-4223-b4c3-3e79c14cdb67",
   "metadata": {},
   "outputs": [
    {
     "name": "stdout",
     "output_type": "stream",
     "text": [
      "Exponencial de la matriz:\n",
      " [[ 0.54030231  0.84147098]\n",
      " [-0.84147098  0.54030231]]\n"
     ]
    }
   ],
   "source": [
    "# Calcula la exponencial de la matriz\n",
    "exp_matriz = expm(matriz6)\n",
    "print(\"Exponencial de la matriz:\\n\", exp_matriz)"
   ]
  },
  {
   "cell_type": "markdown",
   "id": "c862472d-37da-40c3-bde7-86123fd83642",
   "metadata": {},
   "source": [
    "### 5.12. Descomposición de Cholesky"
   ]
  },
  {
   "cell_type": "code",
   "execution_count": 6,
   "id": "f473cd38-457f-4d68-8af8-1a47672793bd",
   "metadata": {},
   "outputs": [],
   "source": [
    "# Crea una matriz simétrica y positiva definida\n",
    "matriz7 = np.array([[4, 12], [12, 37]])"
   ]
  },
  {
   "cell_type": "code",
   "execution_count": 7,
   "id": "88d27d64-9434-4512-8060-4e17045a09fe",
   "metadata": {},
   "outputs": [
    {
     "name": "stdout",
     "output_type": "stream",
     "text": [
      "Matriz triangular inferior L:\n",
      " [[2. 0.]\n",
      " [6. 1.]]\n"
     ]
    }
   ],
   "source": [
    "# Descomposición de Cholesky\n",
    "L = np.linalg.cholesky(matriz7)\n",
    "print(\"Matriz triangular inferior L:\\n\", L)"
   ]
  },
  {
   "cell_type": "markdown",
   "id": "d22cc3e6-b903-4e12-8702-5cf32f872745",
   "metadata": {},
   "source": [
    "### 5.13. Proyección de un vector sobre otro"
   ]
  },
  {
   "cell_type": "code",
   "execution_count": 8,
   "id": "d6155b18-1fc1-475b-9d1a-3c720d748020",
   "metadata": {},
   "outputs": [],
   "source": [
    "# Crea dos vectores\n",
    "v1 = np.array([3, 4])\n",
    "v2 = np.array([1, 2])"
   ]
  },
  {
   "cell_type": "code",
   "execution_count": 9,
   "id": "380bb232-c892-4bab-920f-2f96649b0d0d",
   "metadata": {},
   "outputs": [
    {
     "name": "stdout",
     "output_type": "stream",
     "text": [
      "Proyección de v1 sobre v2: [2.2 4.4]\n"
     ]
    }
   ],
   "source": [
    "# Proyección de v1 sobre v2\n",
    "proyeccion = (np.dot(v1, v2) / np.dot(v2, v2)) * v2\n",
    "print(\"Proyección de v1 sobre v2:\", proyeccion)"
   ]
  },
  {
   "cell_type": "markdown",
   "id": "8d38a250-9568-4580-b12f-724e76eec68b",
   "metadata": {},
   "source": [
    "### 5.14. Resolución de un sistema sobredeterminado"
   ]
  },
  {
   "cell_type": "code",
   "execution_count": 10,
   "id": "3a7002ba-2a5b-4991-ae9d-2a20b30fa634",
   "metadata": {},
   "outputs": [],
   "source": [
    "# Define una matriz A y un vector b\n",
    "A = np.array([[1, 1], [1, 2], [1, 3]])\n",
    "b = np.array([1, 2, 2])"
   ]
  },
  {
   "cell_type": "code",
   "execution_count": 11,
   "id": "f6bcd9e2-8a17-4e53-9b6a-e9d73e1e64f6",
   "metadata": {},
   "outputs": [
    {
     "name": "stdout",
     "output_type": "stream",
     "text": [
      "Solución del sistema sobredeterminado: [0.66666667 0.5       ]\n"
     ]
    }
   ],
   "source": [
    "# Soluciona el sistema utilizando mínimos cuadrados\n",
    "x, residuo, rango, s = np.linalg.lstsq(A, b, rcond=None)\n",
    "print(\"Solución del sistema sobredeterminado:\", x)"
   ]
  },
  {
   "cell_type": "markdown",
   "id": "d80ebcb9-aaa9-4bb4-bdf2-8d54f2afd168",
   "metadata": {},
   "source": [
    "### 5.15. Descomposición QR"
   ]
  },
  {
   "cell_type": "code",
   "execution_count": 12,
   "id": "b8ec7252-bcb2-408a-ad2a-d73553434a0a",
   "metadata": {},
   "outputs": [],
   "source": [
    "# Define una matriz 3x3\n",
    "matriz8 = np.array([[1, 2, 3], [4, 5, 6], [7, 8, 9]])"
   ]
  },
  {
   "cell_type": "code",
   "execution_count": 13,
   "id": "45079f9c-9fd4-4b5c-baaa-819110020ef2",
   "metadata": {},
   "outputs": [
    {
     "name": "stdout",
     "output_type": "stream",
     "text": [
      "Matriz Q:\n",
      " [[-0.12309149  0.90453403  0.40824829]\n",
      " [-0.49236596  0.30151134 -0.81649658]\n",
      " [-0.86164044 -0.30151134  0.40824829]]\n",
      "\n",
      "Matriz R:\n",
      " [[-8.12403840e+00 -9.60113630e+00 -1.10782342e+01]\n",
      " [ 0.00000000e+00  9.04534034e-01  1.80906807e+00]\n",
      " [ 0.00000000e+00  0.00000000e+00 -8.88178420e-16]]\n"
     ]
    }
   ],
   "source": [
    "# Descomposición QR\n",
    "Q, R = np.linalg.qr(matriz8)\n",
    "print(\"Matriz Q:\\n\", Q)\n",
    "print(\"\\nMatriz R:\\n\", R)"
   ]
  },
  {
   "cell_type": "markdown",
   "id": "def35a85-f9c9-4c09-ba38-2e0660a9e8ea",
   "metadata": {},
   "source": [
    "### 5.16. Determinación del rango de una matriz"
   ]
  },
  {
   "cell_type": "code",
   "execution_count": 14,
   "id": "63e79cac-9dd6-467b-b7ee-eb60c758fe98",
   "metadata": {},
   "outputs": [],
   "source": [
    "# Crea una matriz 3x3\n",
    "matriz9 = np.array([[1, 0, 0], [0, 1, 0], [0, 0, 0]])"
   ]
  },
  {
   "cell_type": "code",
   "execution_count": 15,
   "id": "ff33b404-0fa5-4f97-8385-9be2c7efe166",
   "metadata": {},
   "outputs": [
    {
     "name": "stdout",
     "output_type": "stream",
     "text": [
      "Rango de la matriz: 2\n"
     ]
    }
   ],
   "source": [
    "# Calcula el rango de la matriz\n",
    "rango = np.linalg.matrix_rank(matriz9)\n",
    "print(\"Rango de la matriz:\", rango)"
   ]
  },
  {
   "cell_type": "markdown",
   "id": "eb5e2770-7f43-4669-8f77-7f62c3f279f8",
   "metadata": {},
   "source": [
    "### 5.17. Condición de una matriz"
   ]
  },
  {
   "cell_type": "code",
   "execution_count": 16,
   "id": "c4ad85ec-46c7-49fb-9225-4d96f575debe",
   "metadata": {},
   "outputs": [],
   "source": [
    "# Define una matriz 2x2\n",
    "matriz10 = np.array([[1, 2], [3, 4]])"
   ]
  },
  {
   "cell_type": "code",
   "execution_count": 17,
   "id": "b41ebcb1-1df2-4ca2-b18a-8bd1d68748bd",
   "metadata": {},
   "outputs": [
    {
     "name": "stdout",
     "output_type": "stream",
     "text": [
      "Número de condición de la matriz: 14.933034373659268\n"
     ]
    }
   ],
   "source": [
    "# Calcula el número de condición de la matriz\n",
    "condicion = np.linalg.cond(matriz10)\n",
    "print(\"Número de condición de la matriz:\", condicion)"
   ]
  },
  {
   "cell_type": "code",
   "execution_count": null,
   "id": "a423389a-300d-48bf-b646-03fb766e7675",
   "metadata": {},
   "outputs": [],
   "source": []
  }
 ],
 "metadata": {
  "kernelspec": {
   "display_name": "Python 3 (ipykernel)",
   "language": "python",
   "name": "python3"
  },
  "language_info": {
   "codemirror_mode": {
    "name": "ipython",
    "version": 3
   },
   "file_extension": ".py",
   "mimetype": "text/x-python",
   "name": "python",
   "nbconvert_exporter": "python",
   "pygments_lexer": "ipython3",
   "version": "3.9.19"
  }
 },
 "nbformat": 4,
 "nbformat_minor": 5
}

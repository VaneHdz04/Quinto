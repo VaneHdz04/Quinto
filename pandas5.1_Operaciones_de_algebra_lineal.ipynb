{
 "cells": [
  {
   "cell_type": "markdown",
   "id": "5a6e36c7-e982-4149-961a-bec9db46734d",
   "metadata": {},
   "source": [
    "# Numpy"
   ]
  },
  {
   "cell_type": "code",
   "execution_count": 1,
   "id": "4c39ea0c-62ab-49cb-b3af-cc5d0ed53d39",
   "metadata": {},
   "outputs": [],
   "source": [
    "import numpy as np"
   ]
  },
  {
   "cell_type": "markdown",
   "id": "36705413-f779-4e0f-ba09-a0df65982099",
   "metadata": {},
   "source": [
    "## 5. Operaciones de álgebra lineal"
   ]
  },
  {
   "cell_type": "markdown",
   "id": "f44f161c-49c0-4f66-ba1f-e3042353a7cb",
   "metadata": {},
   "source": [
    "### 5.1. Norma de un vector"
   ]
  },
  {
   "cell_type": "code",
   "execution_count": 2,
   "id": "6a545441-8ab7-410f-8881-55c18785f560",
   "metadata": {},
   "outputs": [],
   "source": [
    "# Crea un vector\n",
    "vector = np.array([3, 4])"
   ]
  },
  {
   "cell_type": "code",
   "execution_count": 3,
   "id": "9471cb2b-5dde-4c5c-88d1-223c1368cb7e",
   "metadata": {},
   "outputs": [
    {
     "name": "stdout",
     "output_type": "stream",
     "text": [
      "Norma del vector: 5.0\n"
     ]
    }
   ],
   "source": [
    "# Calcula la norma del vector\n",
    "norma_vector = np.linalg.norm(vector)\n",
    "print(\"Norma del vector:\", norma_vector)"
   ]
  },
  {
   "cell_type": "markdown",
   "id": "883ecb59-2f23-4e21-897b-c7a47333f01d",
   "metadata": {},
   "source": [
    "### 5.2. Producto escalar (dot product)"
   ]
  },
  {
   "cell_type": "code",
   "execution_count": 4,
   "id": "f1a9dde9-9232-4c60-8c47-4dc3c5cac0f5",
   "metadata": {},
   "outputs": [],
   "source": [
    "# Crea dos vectores\n",
    "vector1 = np.array([1, 2, 3])\n",
    "vector2 = np.array([4, 5, 6])"
   ]
  },
  {
   "cell_type": "code",
   "execution_count": 5,
   "id": "fd07d605-6871-43ca-a8cc-011adf9320b1",
   "metadata": {},
   "outputs": [
    {
     "name": "stdout",
     "output_type": "stream",
     "text": [
      "Producto escalar de los vectores: 32\n"
     ]
    }
   ],
   "source": [
    "# Producto escalar\n",
    "producto_escalar = np.dot(vector1, vector2)\n",
    "print(\"Producto escalar de los vectores:\", producto_escalar)"
   ]
  },
  {
   "cell_type": "markdown",
   "id": "bc0c52a7-b217-4812-938a-7930bd3d8da1",
   "metadata": {},
   "source": [
    "### 5.3. Producto vectorial (cross product)"
   ]
  },
  {
   "cell_type": "code",
   "execution_count": 6,
   "id": "59659f16-b30c-473f-a651-c88adb9498ba",
   "metadata": {},
   "outputs": [],
   "source": [
    "# Crea dos vectores en 3D\n",
    "vector3 = np.array([1, 2, 3])\n",
    "vector4 = np.array([4, 5, 6])"
   ]
  },
  {
   "cell_type": "code",
   "execution_count": 7,
   "id": "a15867c8-c3d1-4d3e-b2dc-8f8c8e574e28",
   "metadata": {},
   "outputs": [
    {
     "name": "stdout",
     "output_type": "stream",
     "text": [
      "Producto vectorial de los vectores:\n",
      " [-3  6 -3]\n"
     ]
    }
   ],
   "source": [
    "# Producto vectorial\n",
    "producto_vectorial = np.cross(vector3, vector4)\n",
    "print(\"Producto vectorial de los vectores:\\n\", producto_vectorial)\n"
   ]
  },
  {
   "cell_type": "markdown",
   "id": "4eb66f3c-d7af-4cd6-b900-dce1b4ea4624",
   "metadata": {},
   "source": [
    "### 5.4. Resolución de sistemas de ecuaciones lineales"
   ]
  },
  {
   "cell_type": "code",
   "execution_count": 8,
   "id": "55858ffc-78cd-4a27-b50d-53c8a3a7595b",
   "metadata": {},
   "outputs": [],
   "source": [
    "# Define la matriz A y el vector b\n",
    "A = np.array([[3, 1], [1, 2]])\n",
    "b = np.array([9, 8])"
   ]
  },
  {
   "cell_type": "code",
   "execution_count": 9,
   "id": "9fdef1b5-d6d6-45c1-9205-acd77bc1b82e",
   "metadata": {},
   "outputs": [
    {
     "name": "stdout",
     "output_type": "stream",
     "text": [
      "Solución del sistema de ecuaciones: [2. 3.]\n"
     ]
    }
   ],
   "source": [
    "# Soluciona el sistema Ax = b\n",
    "solucion = np.linalg.solve(A, b)\n",
    "print(\"Solución del sistema de ecuaciones:\", solucion)"
   ]
  },
  {
   "cell_type": "markdown",
   "id": "8a5e996d-fab5-4e28-8033-f8ab0c38da94",
   "metadata": {},
   "source": [
    "### 5.5. Autovalores y autovectores"
   ]
  },
  {
   "cell_type": "code",
   "execution_count": 10,
   "id": "f198b83d-3713-4bc9-98b9-de8e097aac1e",
   "metadata": {},
   "outputs": [],
   "source": [
    "# Define una matriz 2x2\n",
    "matriz = np.array([[2, 1], [1, 2]])"
   ]
  },
  {
   "cell_type": "code",
   "execution_count": 11,
   "id": "41d46025-5081-41f3-8684-7d51ea4f13f3",
   "metadata": {},
   "outputs": [
    {
     "name": "stdout",
     "output_type": "stream",
     "text": [
      "Autovalores: [3. 1.]\n",
      "\n",
      "Autovectores:\n",
      " [[ 0.70710678 -0.70710678]\n",
      " [ 0.70710678  0.70710678]]\n"
     ]
    }
   ],
   "source": [
    "# Calcula los autovalores y autovectores\n",
    "autovalores, autovectores = np.linalg.eig(matriz)\n",
    "print(\"Autovalores:\", autovalores)\n",
    "print(\"\\nAutovectores:\\n\", autovectores)\n"
   ]
  },
  {
   "cell_type": "code",
   "execution_count": null,
   "id": "8c4a2139-0383-4603-933f-73c6c6eabad1",
   "metadata": {},
   "outputs": [],
   "source": []
  }
 ],
 "metadata": {
  "kernelspec": {
   "display_name": "Python 3 (ipykernel)",
   "language": "python",
   "name": "python3"
  },
  "language_info": {
   "codemirror_mode": {
    "name": "ipython",
    "version": 3
   },
   "file_extension": ".py",
   "mimetype": "text/x-python",
   "name": "python",
   "nbconvert_exporter": "python",
   "pygments_lexer": "ipython3",
   "version": "3.9.19"
  }
 },
 "nbformat": 4,
 "nbformat_minor": 5
}

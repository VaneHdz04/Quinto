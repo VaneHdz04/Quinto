{
 "cells": [
  {
   "cell_type": "markdown",
   "id": "a8e50922-14f5-451c-a7e1-41958af3b49e",
   "metadata": {},
   "source": [
    "# Numpy"
   ]
  },
  {
   "cell_type": "code",
   "execution_count": 1,
   "id": "3fba123e-e3ca-4cd5-849b-fbf008111423",
   "metadata": {},
   "outputs": [],
   "source": [
    "import numpy as np"
   ]
  },
  {
   "cell_type": "markdown",
   "id": "ba0b19d3-097c-4b53-84b5-fcc0884b6551",
   "metadata": {},
   "source": [
    "## 4. Matrices y productos matriciales"
   ]
  },
  {
   "cell_type": "markdown",
   "id": "ea6684b4-7bc3-40d6-9531-478686a33358",
   "metadata": {},
   "source": [
    "### 4.6. Inversa de una matriz"
   ]
  },
  {
   "cell_type": "code",
   "execution_count": 2,
   "id": "43d4fa5c-efb4-4383-8711-b2846598617b",
   "metadata": {},
   "outputs": [],
   "source": [
    "# Crea una matriz 2x2 invertible\n",
    "matriz7 = np.array([[4, 7], [2, 6]])"
   ]
  },
  {
   "cell_type": "code",
   "execution_count": 3,
   "id": "1867de78-cd04-4dc8-a90d-a8155a3ad742",
   "metadata": {},
   "outputs": [
    {
     "name": "stdout",
     "output_type": "stream",
     "text": [
      "Matriz inversa:\n",
      " [[ 0.6 -0.7]\n",
      " [-0.2  0.4]]\n"
     ]
    }
   ],
   "source": [
    "# Calcula la inversa de la matriz\n",
    "inversa = np.linalg.inv(matriz7)\n",
    "print(\"Matriz inversa:\\n\", inversa)"
   ]
  },
  {
   "cell_type": "markdown",
   "id": "3c11990f-efcf-480e-867c-715928e2cb2a",
   "metadata": {},
   "source": [
    "### 4.7. Traza de una matriz"
   ]
  },
  {
   "cell_type": "code",
   "execution_count": 4,
   "id": "7631fbf6-8568-44a2-a56a-3f6991063a61",
   "metadata": {},
   "outputs": [],
   "source": [
    "# Crea una matriz 3x3\n",
    "matriz8 = np.array([[1, 2, 3], [4, 5, 6], [7, 8, 9]])"
   ]
  },
  {
   "cell_type": "code",
   "execution_count": 5,
   "id": "f4223b6a-24b9-4e66-8c72-7c14d0f06959",
   "metadata": {},
   "outputs": [
    {
     "name": "stdout",
     "output_type": "stream",
     "text": [
      "Traza de la matriz 3x3: 15\n"
     ]
    }
   ],
   "source": [
    "# Calcula la traza (suma de los elementos diagonales)\n",
    "traza = np.trace(matriz8)\n",
    "print(\"Traza de la matriz 3x3:\", traza)\n"
   ]
  },
  {
   "cell_type": "markdown",
   "id": "605b2f9e-a9fb-4c47-8e84-d4a77a09fab1",
   "metadata": {},
   "source": [
    "### 4.8. Autovalores y autovectores"
   ]
  },
  {
   "cell_type": "code",
   "execution_count": 6,
   "id": "9efc6fe0-c5d8-4c50-903d-17dba72ff72c",
   "metadata": {},
   "outputs": [],
   "source": [
    "# Crea una matriz 2x2\n",
    "matriz9 = np.array([[4, -2], [1, 1]])"
   ]
  },
  {
   "cell_type": "code",
   "execution_count": 7,
   "id": "efbab397-3c48-4a12-bdca-2ab2c6c5058e",
   "metadata": {},
   "outputs": [
    {
     "name": "stdout",
     "output_type": "stream",
     "text": [
      "Autovalores: [3. 2.]\n",
      "\n",
      "Autovectores:\n",
      " [[0.89442719 0.70710678]\n",
      " [0.4472136  0.70710678]]\n"
     ]
    }
   ],
   "source": [
    "# Calcula los autovalores y autovectores\n",
    "autovalores, autovectores = np.linalg.eig(matriz9)\n",
    "print(\"Autovalores:\", autovalores)\n",
    "print(\"\\nAutovectores:\\n\", autovectores)"
   ]
  },
  {
   "cell_type": "markdown",
   "id": "1d29d44d-1c66-4d37-996d-9ce69939ec40",
   "metadata": {},
   "source": [
    "### 4.9. Suma de matrices"
   ]
  },
  {
   "cell_type": "code",
   "execution_count": 8,
   "id": "640afeba-1e59-4160-bb91-8bbe7a8a3178",
   "metadata": {},
   "outputs": [],
   "source": [
    "# Crea dos matrices de 3x3\n",
    "matriz10 = np.array([[1, 2, 3], [4, 5, 6], [7, 8, 9]])\n",
    "matriz11 = np.array([[9, 8, 7], [6, 5, 4], [3, 2, 1]])"
   ]
  },
  {
   "cell_type": "code",
   "execution_count": 9,
   "id": "69d29661-05be-4304-903d-e2a66de3c274",
   "metadata": {},
   "outputs": [
    {
     "name": "stdout",
     "output_type": "stream",
     "text": [
      "Suma de las dos matrices:\n",
      " [[10 10 10]\n",
      " [10 10 10]\n",
      " [10 10 10]]\n"
     ]
    }
   ],
   "source": [
    "# Suma de las matrices\n",
    "suma_matrices = np.add(matriz10, matriz11)\n",
    "print(\"Suma de las dos matrices:\\n\", suma_matrices)"
   ]
  },
  {
   "cell_type": "markdown",
   "id": "0de92d50-8e79-4d62-b76f-cc0efa98ba9a",
   "metadata": {},
   "source": [
    "### 4.10. Multiplicación elemento a elemento de matrices"
   ]
  },
  {
   "cell_type": "code",
   "execution_count": 10,
   "id": "976bac1b-d846-45c4-b379-2f8a57a839d2",
   "metadata": {},
   "outputs": [
    {
     "name": "stdout",
     "output_type": "stream",
     "text": [
      "Multiplicación elemento a elemento de las matrices:\n",
      " [[ 9 16 21]\n",
      " [24 25 24]\n",
      " [21 16  9]]\n"
     ]
    }
   ],
   "source": [
    "# Multiplicación elemento a elemento\n",
    "multiplicacion_elemento = np.multiply(matriz10, matriz11)\n",
    "print(\"Multiplicación elemento a elemento de las matrices:\\n\", multiplicacion_elemento)\n"
   ]
  },
  {
   "cell_type": "code",
   "execution_count": null,
   "id": "bbdd15b5-84bd-4b2c-acc8-ef58e421d8d2",
   "metadata": {},
   "outputs": [],
   "source": []
  }
 ],
 "metadata": {
  "kernelspec": {
   "display_name": "Python 3 (ipykernel)",
   "language": "python",
   "name": "python3"
  },
  "language_info": {
   "codemirror_mode": {
    "name": "ipython",
    "version": 3
   },
   "file_extension": ".py",
   "mimetype": "text/x-python",
   "name": "python",
   "nbconvert_exporter": "python",
   "pygments_lexer": "ipython3",
   "version": "3.9.19"
  }
 },
 "nbformat": 4,
 "nbformat_minor": 5
}
